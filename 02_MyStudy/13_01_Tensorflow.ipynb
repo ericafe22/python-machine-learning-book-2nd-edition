{
 "cells": [
  {
   "cell_type": "code",
   "execution_count": 2,
   "metadata": {},
   "outputs": [
    {
     "name": "stdout",
     "output_type": "stream",
     "text": [
      "WARNING:tensorflow:From C:\\Users\\rika\\Anaconda3\\lib\\site-packages\\tensorflow_core\\python\\compat\\v2_compat.py:65: disable_resource_variables (from tensorflow.python.ops.variable_scope) is deprecated and will be removed in a future version.\n",
      "Instructions for updating:\n",
      "non-resource variables are not supported in the long term\n"
     ]
    }
   ],
   "source": [
    "import os\n",
    "import numpy as np\n",
    "import tensorflow.compat.v1 as tf\n",
    "tf.disable_v2_behavior()"
   ]
  },
  {
   "cell_type": "code",
   "execution_count": 3,
   "metadata": {},
   "outputs": [],
   "source": [
    "g = tf.Graph()\n",
    "\n",
    "with g.as_default():\n",
    "    x = tf.placeholder(dtype=tf.float32, shape=(None), name='x')\n",
    "    w = tf.Variable(2.0, name='weight')\n",
    "    b = tf.Variable(0.7, name='bias')\n",
    "    \n",
    "    z=w*x + b\n",
    "    init=tf.global_variables_initializer()"
   ]
  },
  {
   "cell_type": "code",
   "execution_count": 4,
   "metadata": {},
   "outputs": [
    {
     "name": "stdout",
     "output_type": "stream",
     "text": [
      "x= 1.0 --> z= 2.7\n",
      "x= 0.6 --> z= 1.9\n",
      "x=-1.8 --> z=-2.9\n"
     ]
    }
   ],
   "source": [
    "with tf.Session(graph=g) as sess:\n",
    "    sess.run(init)\n",
    "    for t in [1.0, 0.6, -1.8]:\n",
    "        print(('x=%4.1f --> z=%4.1f'%(t, sess.run(z, feed_dict={x:t}))))"
   ]
  },
  {
   "cell_type": "code",
   "execution_count": 5,
   "metadata": {},
   "outputs": [
    {
     "name": "stdout",
     "output_type": "stream",
     "text": [
      "[2.7 4.7 6.7]\n"
     ]
    }
   ],
   "source": [
    "with tf.Session(graph=g) as sess:\n",
    "    sess.run(init)\n",
    "    print(sess.run(z, feed_dict={x:[1., 2., 3.]})) "
   ]
  },
  {
   "cell_type": "markdown",
   "metadata": {},
   "source": [
    "### 配列構造の操作"
   ]
  },
  {
   "cell_type": "code",
   "execution_count": 6,
   "metadata": {},
   "outputs": [
    {
     "name": "stdout",
     "output_type": "stream",
     "text": [
      "Tensor(\"x2:0\", shape=(?, 6), dtype=float32)\n",
      "Column Sums:\n",
      " [18. 21. 24. 27. 30. 33.]\n",
      "Column Means:\n",
      " [ 6.  7.  8.  9. 10. 11.]\n"
     ]
    }
   ],
   "source": [
    "g = tf.Graph()\n",
    "\n",
    "with g.as_default():\n",
    "    x = tf.placeholder(dtype=tf.float32, shape=(None,2,3), name='input_x')\n",
    "    x2 = tf.reshape(x,shape=(-1,6),name='x2')\n",
    "    \n",
    "    print(x2)\n",
    "    \n",
    "    ## 各列の合計\n",
    "    xsum=tf.reduce_sum(x2,axis=0,name='col_sum')\n",
    "    \n",
    "    ## 各列の平均\n",
    "    xmean=tf.reduce_mean(x2,axis=0,name='col_mean')\n",
    "\n",
    "with tf.Session(graph=g) as sess:\n",
    "    x_array = np.arange(18).reshape(3,2,3)\n",
    "    #x_array = np.arange(24).reshape(4,2,3)\n",
    "    #print('input shape: ', x_array.shape)\n",
    "    #print('Reshaped:\\n', sess.run(x2, feed_dict={x:x_array}))\n",
    "    print('Column Sums:\\n', sess.run(xsum, feed_dict={x:x_array}))\n",
    "    print('Column Means:\\n', sess.run(xmean, feed_dict={x:x_array}))"
   ]
  },
  {
   "cell_type": "markdown",
   "metadata": {},
   "source": [
    "### 最小2乗線形回帰"
   ]
  },
  {
   "cell_type": "code",
   "execution_count": 7,
   "metadata": {},
   "outputs": [],
   "source": [
    "X_train = np.arange(10).reshape((10, 1))\n",
    "y_train = np.array([1.0, 1.3, 3.1,2.0, 5.0, 6.3, 6.6, 7.4, 8.0, 9.0])"
   ]
  },
  {
   "cell_type": "code",
   "execution_count": 73,
   "metadata": {},
   "outputs": [],
   "source": [
    "class TfLinreg(object):\n",
    "    \n",
    "    def __init__(self, x_dim, learning_rate=0.01, random_seed=None):\n",
    "        self.x_dim = x_dim\n",
    "        self.learning_rate = learning_rate\n",
    "        self.g = tf.Graph()\n",
    "        \n",
    "        with self.g.as_default():\n",
    "            tf.set_random_seed(random_seed)\n",
    "            self.build()\n",
    "            \n",
    "            # 変数のイニシャライザ\n",
    "            self.init_op = tf.global_variables_initializer()\n",
    "    \n",
    "    def build(self):\n",
    "        # プレースホルダ―を定義\n",
    "        self.X = tf.placeholder(dtype=tf.float32, shape=(None,self.x_dim), name='x_input')\n",
    "        self.y = tf.placeholder(dtype=tf.float32, shape=(None), name='y_input')\n",
    "        \n",
    "        print(self.X) # X_train:1段階のテンソル\n",
    "        print(self.y) # y_train:2段階のテンソル\n",
    "        \n",
    "        # tf.zeros:要素が全て0の行列\n",
    "        # 1×1のテンソル\n",
    "        w = tf.Variable(tf.zeros(shape=(1)), name='weight')\n",
    "        b = tf.Variable(tf.zeros(shape=(1)), name='bias')\n",
    "        \n",
    "        self.w = w\n",
    "        self.b = b\n",
    "        \n",
    "        # tf.squeeze:1の次元を削除し、テンソルを1つ下げる関数\n",
    "        self.z_net = tf.squeeze(w * self.X + b, name='z_net')\n",
    "        \n",
    "        # 重みのかかった\n",
    "        print(self.z_net)\n",
    "        \n",
    "        # 検証\n",
    "        #self.before_test = w * self.X + b\n",
    "        self.z_net = self.z_net\n",
    "        \n",
    "        # tf.square:要素ごとに2乗をとる\n",
    "        sqr_errors = tf.square(self.y - self.z_net, name='sqr_errors')\n",
    "        print(sqr_errors)\n",
    "        \n",
    "        # tf.reduce_mean:与えたリストに入っている数値の平均値を求める関数\n",
    "        self.mean_cost = tf.reduce_mean(sqr_errors, name='mean_cost')\n",
    "        \n",
    "        ## オプティマイザを作成\n",
    "        # GradientDescentOptimizer:急速降下法\n",
    "        optimizer = tf.train.GradientDescentOptimizer(\n",
    "            learning_rate=self.learning_rate,\n",
    "            name='GradientDescent'\n",
    "        )\n",
    "        \n",
    "        self.optimizer = optimizer.minimize(self.mean_cost)"
   ]
  },
  {
   "cell_type": "code",
   "execution_count": 74,
   "metadata": {},
   "outputs": [
    {
     "name": "stdout",
     "output_type": "stream",
     "text": [
      "Tensor(\"x_input:0\", shape=(?, 1), dtype=float32)\n",
      "Tensor(\"y_input:0\", dtype=float32)\n",
      "Tensor(\"z_net:0\", dtype=float32)\n",
      "Tensor(\"sqr_errors:0\", dtype=float32)\n"
     ]
    }
   ],
   "source": [
    "lrmodel = TfLinreg(x_dim=X_train.shape[1], learning_rate=0.02)"
   ]
  },
  {
   "cell_type": "code",
   "execution_count": 77,
   "metadata": {},
   "outputs": [],
   "source": [
    "### 学習\n",
    "\n",
    "def train_linreg(sess, model, X_train, y_train, num_epochs=10):\n",
    "    # 変数の初期化\n",
    "    sess.run(model.init_op)\n",
    "    \n",
    "    training_costs=[]\n",
    "\n",
    "    # 同じX_trainを10回繰り返す\n",
    "    for i in range(num_epochs):\n",
    "        \"\"\"\n",
    "        model.optimizer:急速降下法を適用する\n",
    "        model.X:学習データ(階数2)\n",
    "        model.y:正解データ(階数1)\n",
    "        model.z_net:予測値(w * self.X + bから計算)\n",
    "        model.sqr_errors:実績値-予測値の2乗\n",
    "        model.mean_cost:2乗誤差の平均値\n",
    "        model.w:更新後の重み\n",
    "        model.b:更新後のバイアス\n",
    "        \"\"\"\n",
    "        _, cost, w, b, z_net = sess.run([model.optimizer, model.mean_cost, model.w, model.b, model.z_net],\n",
    "                            feed_dict={model.X:X_train, model.y:y_train}) # 同じのを10回繰り返す\n",
    "        training_costs.append(cost)\n",
    "    \n",
    "    return training_costs"
   ]
  },
  {
   "cell_type": "code",
   "execution_count": 78,
   "metadata": {},
   "outputs": [],
   "source": [
    "sess = tf.Session(graph=lrmodel.g)\n",
    "training_costs = train_linreg(sess, lrmodel, X_train, y_train)"
   ]
  },
  {
   "cell_type": "code",
   "execution_count": 79,
   "metadata": {},
   "outputs": [
    {
     "data": {
      "image/png": "[encoded data removed]",
      "text/plain": [
       "<Figure size 432x288 with 1 Axes>"
      ]
     },
     "metadata": {
      "needs_background": "light"
     },
     "output_type": "display_data"
    }
   ],
   "source": [
    "import matplotlib.pyplot as plt\n",
    "\n",
    "plt.plot(range(1,len(training_costs) + 1), training_costs)\n",
    "plt.tight_layout()\n",
    "plt.xlabel('Epoch')\n",
    "plt.ylabel('Training Cost')\n",
    "#plt.savefig('images/13_01.png', dpi=300)\n",
    "plt.show()"
   ]
  },
  {
   "cell_type": "code",
   "execution_count": 32,
   "metadata": {},
   "outputs": [],
   "source": [
    "### 予測\n",
    "def predict_linreg(sess, model, X_test):\n",
    "    y_pred = sess.run(model.z_net, feed_dict={model.X:X_test})\n",
    "    return y_pred"
   ]
  },
  {
   "cell_type": "code",
   "execution_count": 20,
   "metadata": {},
   "outputs": [
    {
     "data": {
      "image/png": "[encoded data removed]",
      "text/plain": [
       "<Figure size 432x288 with 1 Axes>"
      ]
     },
     "metadata": {},
     "output_type": "display_data"
    }
   ],
   "source": [
    "plt.scatter(X_train, y_train,\n",
    "            marker='s', s=50,\n",
    "            label='Training Data')\n",
    "plt.plot(range(X_train.shape[0]), \n",
    "         predict_linreg(sess, lrmodel, X_train),\n",
    "         color='gray', marker='o', \n",
    "         markersize=6, linewidth=3,\n",
    "         label='LinReg Model')\n",
    "plt.xlabel('x')\n",
    "plt.ylabel('y')\n",
    "plt.legend()\n",
    "plt.tight_layout()\n",
    "#plt.savefig('images/13_02.png')\n",
    "plt.show()"
   ]
  },
  {
   "cell_type": "markdown",
   "metadata": {},
   "source": [
    "### TensorFlow Layers"
   ]
  },
  {
   "cell_type": "code",
   "execution_count": 21,
   "metadata": {},
   "outputs": [],
   "source": [
    "import struct\n",
    " \n",
    "def load_mnist(path, kind='train'):\n",
    "    labels_path = os.path.join(path, '%s-labels.idx1-ubyte' % kind).replace('\\\\','/')\n",
    "    images_path = os.path.join(path, '%s-images.idx3-ubyte' % kind).replace('\\\\','/')\n",
    "        \n",
    "    with open(labels_path, 'rb') as lbpath:\n",
    "        magic, n = struct.unpack('>II', lbpath.read(8))\n",
    "        labels = np.fromfile(lbpath, dtype=np.uint8)\n",
    "\n",
    "    with open(images_path, 'rb') as imgpath:\n",
    "        magic, num, rows, cols = struct.unpack(\">IIII\", \n",
    "                                               imgpath.read(16))\n",
    "        images = np.fromfile(imgpath, dtype=np.uint8).reshape(len(labels), 784)\n",
    "        images = ((images / 255.) - .5) * 2\n",
    " \n",
    "    return images, labels"
   ]
  },
  {
   "cell_type": "code",
   "execution_count": 22,
   "metadata": {},
   "outputs": [
    {
     "name": "stdout",
     "output_type": "stream",
     "text": [
      "Rows: 60000,  Columns: 784\n"
     ]
    }
   ],
   "source": [
    "current_path = os.path.join(os.getcwd(),'mnist')\n",
    "X_train, y_train = load_mnist(current_path, kind='train')\n",
    "print('Rows: %d,  Columns: %d' %(X_train.shape[0], X_train.shape[1]))"
   ]
  },
  {
   "cell_type": "code",
   "execution_count": 23,
   "metadata": {},
   "outputs": [
    {
     "name": "stdout",
     "output_type": "stream",
     "text": [
      "Rows: 10000, columns: 784\n"
     ]
    }
   ],
   "source": [
    "X_test, y_test = load_mnist(current_path, kind='t10k')\n",
    "print('Rows: %d, columns: %d' % (X_test.shape[0], X_test.shape[1]))"
   ]
  },
  {
   "cell_type": "code",
   "execution_count": 24,
   "metadata": {},
   "outputs": [
    {
     "name": "stdout",
     "output_type": "stream",
     "text": [
      "(60000, 784) (60000,)\n",
      "(10000, 784) (10000,)\n"
     ]
    }
   ],
   "source": [
    "# 平均&標準化\n",
    "mean_vals = np.mean(X_train, axis=0)\n",
    "std_val = np.std(X_train)\n",
    "\n",
    "# 中心化\n",
    "X_train_centered = (X_train - mean_vals)/std_val\n",
    "X_test_centered = (X_test - mean_vals)/std_val\n",
    "\n",
    "del X_train, X_test\n",
    "\n",
    "print(X_train_centered.shape, y_train.shape)\n",
    "print(X_test_centered.shape, y_test.shape)"
   ]
  },
  {
   "cell_type": "code",
   "execution_count": 31,
   "metadata": {},
   "outputs": [],
   "source": [
    "import tensorflow as tf\n",
    "\n",
    "n_features = X_train_centered.shape[1]\n",
    "n_classes = 10\n",
    "random_seed = 123\n",
    "np.random.seed(random_seed)\n",
    "\n",
    "g = tf.Graph()\n",
    "\n",
    "with g.as_default():\n",
    "    tf.set_random_seed(random_seed)\n",
    "    tf_x = tf.placeholder(dtype=tf.float32,shape=(None, n_features),name='tf_x')\n",
    "    tf_y = tf.placeholder(dtype=tf.int32, shape=None, name='tf_y')\n",
    "    \n",
    "    # tf.one_hot:ワンホット表現に置き換える\n",
    "    y_onehot = tf.one_hot(indices=tf_y, depth=n_classes)\n",
    "    \n",
    "    # tf.layers.dense:全結合層\n",
    "    h1 = tf.layers.dense(inputs=tf_x, units=50,activation=tf.tanh,name='layer1')\n",
    "    h2 = tf.layers.dense(inputs=h1, units=50,activation=tf.tanh,name='layer2')\n",
    "    # 追加した隠れ層\n",
    "    logits = tf.layers.dense(inputs=h2, units=10,activation=None,name='layer3')\n",
    "    \n",
    "    # 出力層のソフトマックス関数(元はロジスティック関数)\n",
    "    predictions = {\n",
    "        'classes' : tf.argmax(logits, axis=1, name='predicted_classes'),\n",
    "        'probabilities' : tf.nn.softmax(logits, name='softmax_tensor')\n",
    "    } "
   ]
  },
  {
   "cell_type": "code",
   "execution_count": 32,
   "metadata": {},
   "outputs": [],
   "source": [
    "with g.as_default():\n",
    "    # コスト関数\n",
    "    cost = tf.losses.softmax_cross_entropy(onehot_labels=y_onehot,\n",
    "                                          logits=logits)\n",
    "    ## オプティマイザを作成\n",
    "    # GradientDescentOptimizer:急速降下法\n",
    "    optimizer = tf.train.GradientDescentOptimizer(learning_rate=0.001)\n",
    "    train_op = optimizer.minimize(loss=cost)\n",
    "    init_op = tf.global_variables_initializer()"
   ]
  },
  {
   "cell_type": "code",
   "execution_count": 33,
   "metadata": {},
   "outputs": [],
   "source": [
    "# データバッチ生成用のジェネレーター\n",
    "def create_batch_generator(X, y, batch_size=128, shuffle=False):\n",
    "    X_copy = np.array(X)\n",
    "    y_copy = np.array(y)\n",
    "    \n",
    "    if shuffle:\n",
    "        # np.column_stack:配列を列方向に積み上げる\n",
    "        data = np.column_stack((X_copy, y_copy))\n",
    "        np.random.shuffle(data)\n",
    "        X_copy = data[:, :-1]\n",
    "        y_copy = data[:, :-1].astype(int)\n",
    "        \n",
    "    for i in range(0, X.shape[0], batch_size):\n",
    "        yield (X_copy[i:i+batch_size, :], y_copy[i:i+batch_size])"
   ]
  },
  {
   "cell_type": "code",
   "execution_count": 34,
   "metadata": {},
   "outputs": [
    {
     "name": "stdout",
     "output_type": "stream",
     "text": [
      " -- Epoch  1  Avg. Training Loss: 1.5573\n",
      " -- Epoch  2  Avg. Training Loss: 1.2532\n",
      " -- Epoch  3  Avg. Training Loss: 1.0854\n",
      " -- Epoch  4  Avg. Training Loss: 0.9738\n",
      " -- Epoch  5  Avg. Training Loss: 0.8924\n",
      " -- Epoch  6  Avg. Training Loss: 0.8296\n",
      " -- Epoch  7  Avg. Training Loss: 0.7794\n",
      " -- Epoch  8  Avg. Training Loss: 0.7381\n",
      " -- Epoch  9  Avg. Training Loss: 0.7032\n",
      " -- Epoch 10  Avg. Training Loss: 0.6734\n",
      " -- Epoch 11  Avg. Training Loss: 0.6475\n",
      " -- Epoch 12  Avg. Training Loss: 0.6247\n",
      " -- Epoch 13  Avg. Training Loss: 0.6045\n",
      " -- Epoch 14  Avg. Training Loss: 0.5864\n",
      " -- Epoch 15  Avg. Training Loss: 0.5700\n",
      " -- Epoch 16  Avg. Training Loss: 0.5551\n",
      " -- Epoch 17  Avg. Training Loss: 0.5415\n",
      " -- Epoch 18  Avg. Training Loss: 0.5290\n",
      " -- Epoch 19  Avg. Training Loss: 0.5175\n",
      " -- Epoch 20  Avg. Training Loss: 0.5068\n",
      " -- Epoch 21  Avg. Training Loss: 0.4968\n",
      " -- Epoch 22  Avg. Training Loss: 0.4875\n",
      " -- Epoch 23  Avg. Training Loss: 0.4788\n",
      " -- Epoch 24  Avg. Training Loss: 0.4706\n",
      " -- Epoch 25  Avg. Training Loss: 0.4629\n",
      " -- Epoch 26  Avg. Training Loss: 0.4556\n",
      " -- Epoch 27  Avg. Training Loss: 0.4487\n",
      " -- Epoch 28  Avg. Training Loss: 0.4422\n",
      " -- Epoch 29  Avg. Training Loss: 0.4359\n",
      " -- Epoch 30  Avg. Training Loss: 0.4300\n",
      " -- Epoch 31  Avg. Training Loss: 0.4243\n",
      " -- Epoch 32  Avg. Training Loss: 0.4189\n",
      " -- Epoch 33  Avg. Training Loss: 0.4138\n",
      " -- Epoch 34  Avg. Training Loss: 0.4088\n",
      " -- Epoch 35  Avg. Training Loss: 0.4041\n",
      " -- Epoch 36  Avg. Training Loss: 0.3995\n",
      " -- Epoch 37  Avg. Training Loss: 0.3951\n",
      " -- Epoch 38  Avg. Training Loss: 0.3909\n",
      " -- Epoch 39  Avg. Training Loss: 0.3868\n",
      " -- Epoch 40  Avg. Training Loss: 0.3829\n",
      " -- Epoch 41  Avg. Training Loss: 0.3791\n",
      " -- Epoch 42  Avg. Training Loss: 0.3754\n",
      " -- Epoch 43  Avg. Training Loss: 0.3718\n",
      " -- Epoch 44  Avg. Training Loss: 0.3684\n",
      " -- Epoch 45  Avg. Training Loss: 0.3651\n",
      " -- Epoch 46  Avg. Training Loss: 0.3618\n",
      " -- Epoch 47  Avg. Training Loss: 0.3587\n",
      " -- Epoch 48  Avg. Training Loss: 0.3556\n",
      " -- Epoch 49  Avg. Training Loss: 0.3527\n",
      " -- Epoch 50  Avg. Training Loss: 0.3498\n"
     ]
    }
   ],
   "source": [
    "# TensorFlowのセッション開始\n",
    "sess = tf.Session(graph=g)\n",
    "sess.run(init_op)\n",
    "\n",
    "# 50エポックのトレーニング\n",
    "training_costs=[]\n",
    "for epoch in range(50):\n",
    "    training_loss=[]\n",
    "    batch_generator=create_batch_generator(X_train_centered, y_train, batch_size=64)\n",
    "    \n",
    "    for batch_X, batch_y in batch_generator:\n",
    "        feed={tf_x:batch_X, tf_y:batch_y}\n",
    "        _, batch_cost = sess.run([train_op, cost], feed_dict=feed)\n",
    "        training_costs.append(batch_cost)\n",
    "    print(' -- Epoch %2d  Avg. Training Loss: %.4f' % (epoch+1, np.mean(training_costs)))"
   ]
  },
  {
   "cell_type": "code",
   "execution_count": 35,
   "metadata": {},
   "outputs": [
    {
     "name": "stdout",
     "output_type": "stream",
     "text": [
      "Test Accuracy: 93.89%\n"
     ]
    }
   ],
   "source": [
    "# テストデータセットで予測を行う\n",
    "feed = {tf_x : X_test_centered}\n",
    "y_pred = sess.run(predictions['classes'], feed_dict=feed)\n",
    "print('Test Accuracy: %.2f%%' % (100*np.sum(y_pred == y_test)/y_test.shape[0]))"
   ]
  },
  {
   "cell_type": "code",
   "execution_count": null,
   "metadata": {},
   "outputs": [],
   "source": []
  },
  {
   "cell_type": "code",
   "execution_count": null,
   "metadata": {},
   "outputs": [],
   "source": []
  },
  {
   "cell_type": "code",
   "execution_count": null,
   "metadata": {},
   "outputs": [],
   "source": []
  },
  {
   "cell_type": "code",
   "execution_count": null,
   "metadata": {},
   "outputs": [],
   "source": []
  },
  {
   "cell_type": "code",
   "execution_count": null,
   "metadata": {},
   "outputs": [],
   "source": []
  }
 ],
 "metadata": {
  "kernelspec": {
   "display_name": "Python 3",
   "language": "python",
   "name": "python3"
  },
  "language_info": {
   "codemirror_mode": {
    "name": "ipython",
    "version": 3
   },
   "file_extension": ".py",
   "mimetype": "text/x-python",
   "name": "python",
   "nbconvert_exporter": "python",
   "pygments_lexer": "ipython3",
   "version": "3.6.5"
  }
 },
 "nbformat": 4,
 "nbformat_minor": 2
}
