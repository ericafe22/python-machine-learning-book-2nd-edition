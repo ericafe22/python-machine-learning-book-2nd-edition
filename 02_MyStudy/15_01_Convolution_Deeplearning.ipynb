{
 "cells": [
  {
   "cell_type": "markdown",
   "metadata": {},
   "source": [
    "# 事前知識"
   ]
  },
  {
   "cell_type": "markdown",
   "metadata": {},
   "source": [
    "### 1次元の畳み込み"
   ]
  },
  {
   "cell_type": "code",
   "execution_count": 19,
   "metadata": {},
   "outputs": [
    {
     "name": "stdout",
     "output_type": "stream",
     "text": [
      "Conv1d Implementation:  [ 5. 14. 16. 26. 24. 34. 19. 22.]\n",
      "Numpy Results:          [ 5 14 16 26 24 34 19 22]\n"
     ]
    }
   ],
   "source": [
    "import numpy as np\n",
    "\n",
    "def conv1d(x,w,p=0,s=0):\n",
    "    w_rot = np.array(w[::-1]) #反転\n",
    "    x_padded = np.array(x)\n",
    "    if p > 0:\n",
    "        zero_pad = np.zeros(shape=p)\n",
    "        x_padded = np.concatenate([zero_pad, x_padded, zero_pad])\n",
    "    res = []\n",
    "    for i in range(0, int(len(x)/s), s):\n",
    "        res.append(np.sum(x_padded[i:i+w_rot.shape[0]] * w_rot))\n",
    "    return np.array(res)\n",
    "\n",
    "## Testing:\n",
    "x = [1, 3, 2, 4, 5, 6, 1, 3]\n",
    "w = [1, 0, 3, 1, 2]\n",
    "print('Conv1d Implementation: ', \n",
    "      conv1d(x, w, p=2, s=1)) # p:ゼロ埋め、s:フィルタのシフト\n",
    "print('Numpy Results:         ', \n",
    "      np.convolve(x, w, mode='same'))"
   ]
  },
  {
   "cell_type": "markdown",
   "metadata": {},
   "source": [
    "### 2次元の畳み込み"
   ]
  },
  {
   "cell_type": "code",
   "execution_count": 20,
   "metadata": {},
   "outputs": [],
   "source": [
    "import numpy as np\n",
    "import scipy.signal\n",
    "\n",
    "def conv2d(X, W, p=(0, 0), s=(1, 1)):\n",
    "    W_rot = np.array(W)[::-1,::-1]\n",
    "    X_orig = np.array(X)\n",
    "    n1 = X_orig.shape[0] + 2 * p[0]\n",
    "    n2 = X_orig.shape[1] + 2 * p[1]\n",
    "    X_padded = np.zeros(shape=(n1 ,n2))\n",
    "    X_padded[p[0]:p[0]+X_orig.shape[0],\n",
    "             p[1]:p[1]+X_orig.shape[1]] = X_orig\n",
    "    res = []\n",
    "    for i in range(0, int((X_padded.shape[0] - W_rot.shape[0])/s[0])+1, s[0]):\n",
    "        res.append([])\n",
    "        for j in range(0, int((X_padded.shape[1] - W_rot.shape[1])/s[1])+1, s[1]):\n",
    "            X_sub = X_padded[i:i+W_rot.shape[0], j:j+W_rot.shape[1]]\n",
    "            res[-1].append(np.sum(X_sub * W_rot))\n",
    "    return(np.array(res))"
   ]
  },
  {
   "cell_type": "code",
   "execution_count": 21,
   "metadata": {},
   "outputs": [
    {
     "name": "stdout",
     "output_type": "stream",
     "text": [
      "Conv2d Implementation: \n",
      " [[11. 25. 32. 13.]\n",
      " [19. 25. 24. 13.]\n",
      " [13. 28. 25. 17.]\n",
      " [11. 17. 14.  9.]]\n",
      "Scipy Results:         \n",
      " [[11 25 32 13]\n",
      " [19 25 24 13]\n",
      " [13 28 25 17]\n",
      " [11 17 14  9]]\n"
     ]
    }
   ],
   "source": [
    "X = [[1, 3, 2, 4], [5, 6, 1, 3], [1 , 2,0, 2], [3, 4, 3, 2]]\n",
    "W = [[1, 0, 3], [1, 2, 1], [0, 1, 1]]\n",
    "print('Conv2d Implementation: \\n', \n",
    "      conv2d(X, W, p=(1,1), s=(1,1)))\n",
    "\n",
    "print('Scipy Results:         \\n', \n",
    "      scipy.signal.convolve2d(X, W, mode='same'))"
   ]
  },
  {
   "cell_type": "markdown",
   "metadata": {},
   "source": [
    "### RGB画像の読み込み"
   ]
  },
  {
   "cell_type": "code",
   "execution_count": 22,
   "metadata": {},
   "outputs": [
    {
     "name": "stdout",
     "output_type": "stream",
     "text": [
      "Image shape: (252, 221, 3)\n",
      "Number of channels: 3\n",
      "Image data type: uint8\n",
      "[[[179 134 110]\n",
      "  [182 136 112]]\n",
      "\n",
      " [[180 135 111]\n",
      "  [182 137 113]]]\n"
     ]
    }
   ],
   "source": [
    "import imageio\n",
    "try:\n",
    "    img = imageio.imread('./example-image.png', pilmode='RGB')\n",
    "except AttributeError:\n",
    "    s = (\"imageio.imread requires Python's image library PIL\"\n",
    "         \" You can satisfy this requirement by installing the\"\n",
    "         \" userfriendly fork PILLOW via `pip install pillow`.\")\n",
    "    raise AttributeError(s)\n",
    "\n",
    "print('Image shape:', img.shape)\n",
    "print('Number of channels:', img.shape[2])\n",
    "print('Image data type:', img.dtype)\n",
    "print(img[100:102, 100:102, :])"
   ]
  },
  {
   "cell_type": "code",
   "execution_count": 24,
   "metadata": {},
   "outputs": [
    {
     "name": "stdout",
     "output_type": "stream",
     "text": [
      "252\n",
      "221\n",
      "3\n"
     ]
    }
   ],
   "source": [
    "print(img.shape[0])\n",
    "print(img.shape[1])\n",
    "print(img.shape[2])"
   ]
  },
  {
   "cell_type": "markdown",
   "metadata": {},
   "source": [
    "# CNNの実装"
   ]
  },
  {
   "cell_type": "markdown",
   "metadata": {},
   "source": [
    "### minstファイルの読み込み"
   ]
  },
  {
   "cell_type": "code",
   "execution_count": 95,
   "metadata": {},
   "outputs": [],
   "source": [
    "import sys\n",
    "import gzip\n",
    "import shutil\n",
    "import os"
   ]
  },
  {
   "cell_type": "code",
   "execution_count": 96,
   "metadata": {},
   "outputs": [
    {
     "data": {
      "text/plain": [
       "['t10k-images-idx3-ubyte.gz',\n",
       " 't10k-labels-idx1-ubyte.gz',\n",
       " 'train-images-idx3-ubyte.gz',\n",
       " 'train-labels-idx1-ubyte.gz']"
      ]
     },
     "execution_count": 96,
     "metadata": {},
     "output_type": "execute_result"
    }
   ],
   "source": [
    "#zipファイルのリストの取得\n",
    "if (sys.version_info > (3, 0)):\n",
    "    writemode = 'wb'\n",
    "else:\n",
    "    writemode = 'w'\n",
    "\n",
    "zipped_mnist_tmp = [f for f in os.listdir('./mnist2/') if f.endswith('ubyte.gz')]\n",
    "zipped_mnist_tmp"
   ]
  },
  {
   "cell_type": "code",
   "execution_count": 97,
   "metadata": {},
   "outputs": [
    {
     "data": {
      "text/plain": [
       "['./mnist2/t10k-images-idx3-ubyte.gz',\n",
       " './mnist2/t10k-labels-idx1-ubyte.gz',\n",
       " './mnist2/train-images-idx3-ubyte.gz',\n",
       " './mnist2/train-labels-idx1-ubyte.gz']"
      ]
     },
     "execution_count": 97,
     "metadata": {},
     "output_type": "execute_result"
    }
   ],
   "source": [
    "# Listにファイルパスを追記\n",
    "zipped_mnist = []\n",
    "for file_name in zipped_mnist_tmp:\n",
    "    file_path = './mnist2/' + file_name\n",
    "    zipped_mnist.append(file_path)\n",
    "zipped_mnist"
   ]
  },
  {
   "cell_type": "code",
   "execution_count": 98,
   "metadata": {},
   "outputs": [],
   "source": [
    "#gzファイルを解凍\n",
    "for z in zipped_mnist:\n",
    "    with gzip.GzipFile(z, mode='rb') as decompressed, open(z[:-3], writemode) as outfile:\n",
    "        outfile.write(decompressed.read())"
   ]
  },
  {
   "cell_type": "code",
   "execution_count": 99,
   "metadata": {},
   "outputs": [],
   "source": [
    "# load関数を定義\n",
    "import struct\n",
    "import numpy as np\n",
    "\n",
    "def load_mnist(path, kind='train'):\n",
    "    labels_path = os.path.join(path,'%s-labels-idx1-ubyte'%kind)\n",
    "    images_path = os.path.join(path,'%s-images-idx3-ubyte'%kind)\n",
    "    \n",
    "    with open(labels_path, 'rb') as lbpath:\n",
    "        # big endian::unsigned int::unsigned int\n",
    "        # 頭の8バイトはヘッダ\n",
    "        magic, n = struct.unpack('>II',lbpath.read(8))\n",
    "        # 8ビットの符号なし整数\n",
    "        labels = np.fromfile(lbpath, dtype=np.uint8)\n",
    "        \n",
    "    with open(images_path,'rb') as imgpath:\n",
    "        magic, num, rows, cols = struct.unpack(\">IIII\", imgpath.read(16))\n",
    "        images = np.fromfile(imgpath, dtype=np.uint8).reshape(len(labels), 784)\n",
    "    \n",
    "    return images, labels"
   ]
  },
  {
   "cell_type": "code",
   "execution_count": 119,
   "metadata": {},
   "outputs": [
    {
     "name": "stdout",
     "output_type": "stream",
     "text": [
      "Rows: 60000,  Columns: 784\n",
      "Rows: 10000,  Columns: 784\n",
      "Training:    (50000, 784) (50000,)\n",
      "Validation:  (10000, 784) (10000,)\n",
      "Test Set:    (10000, 784) (10000,)\n"
     ]
    }
   ],
   "source": [
    "# データの読み込み\n",
    "# 784 = 28×28\n",
    "X_data, y_data = load_mnist('./mnist2/', kind='train')\n",
    "print('Rows: %d,  Columns: %d' % (X_data.shape[0], X_data.shape[1]))\n",
    "X_test, y_test = load_mnist('./mnist2/', kind='t10k')\n",
    "print('Rows: %d,  Columns: %d' % (X_test.shape[0], X_test.shape[1]))\n",
    "\n",
    "X_train, y_train = X_data[:50000,:], y_data[:50000]\n",
    "X_valid, y_valid = X_data[50000:,:], y_data[50000:]\n",
    "\n",
    "print('Training:   ', X_train.shape, y_train.shape)\n",
    "print('Validation: ', X_valid.shape, y_valid.shape)\n",
    "print('Test Set:   ', X_test.shape, y_test.shape)"
   ]
  },
  {
   "cell_type": "markdown",
   "metadata": {},
   "source": [
    "### ミニバッチ"
   ]
  },
  {
   "cell_type": "code",
   "execution_count": 101,
   "metadata": {},
   "outputs": [],
   "source": [
    "# データをミニバッチごとに処理する関数の定義\n",
    "def batch_generator(X, y, batch_size=64, shuffle=False, random_seed=None):\n",
    "    # 1ずつの等差数列を作成\n",
    "    idx = np.arange(y.shape[0])\n",
    "    \n",
    "    # INDEXのシャッフル\n",
    "    if shuffle:\n",
    "        rng = np.random.RandomState(random_seed)\n",
    "        rng.shuffle(idx)\n",
    "        X = X[idx]\n",
    "        y = y[idx]\n",
    "    \n",
    "    for i in range(0, X.shape[0], batch_size):\n",
    "        yield ( X[i:i+batch_size, :], y[i:i+batch_size])"
   ]
  },
  {
   "cell_type": "markdown",
   "metadata": {},
   "source": [
    "### 正規化"
   ]
  },
  {
   "cell_type": "code",
   "execution_count": 120,
   "metadata": {},
   "outputs": [],
   "source": [
    "mean_vals = np.mean(X_train, axis=0)\n",
    "std_val = np.std(X_train)\n",
    "\n",
    "X_train_centered = (X_train - mean_vals)/std_val\n",
    "X_valid_centered = (X_valid - mean_vals)/std_val\n",
    "X_test_centered = (X_test - mean_vals)/std_val\n"
   ]
  },
  {
   "cell_type": "markdown",
   "metadata": {},
   "source": [
    "### CNNの実装(畳み込み層)"
   ]
  },
  {
   "cell_type": "code",
   "execution_count": 103,
   "metadata": {},
   "outputs": [],
   "source": [
    "import tensorflow.compat.v1 as tf\n",
    "tf.disable_v2_behavior()\n",
    "import numpy as np\n",
    "\n",
    "# 畳み込み層のラッパー関数\n",
    "def conv_layer(\n",
    "    input_tensor              #インプットテンソル\n",
    "    ,name                     # 名前\n",
    "    ,kernel_size              # フィルタサイズ\n",
    "    ,n_output_channels        # 出力数\n",
    "    ,padding_mode = 'SAME'    # full,same,valid\n",
    "    ,strides=(1, 1, 1, 1)):   # スライド数\n",
    "    \n",
    "    # tf.variable_scope :: 変数（識別子）を管理するための専用のスコープ定義\n",
    "    # tf.get_variable   :: (<変数名>)\n",
    "    # tf.Variable      ::  (<初期値><変数名>) \n",
    "    \n",
    "    with tf.variable_scope(name):\n",
    "        # 入力チャネルの個数を取得\n",
    "        # input_tensorの形状 :: バッチ×幅×高さ×チャネル数\n",
    "        input_shape = input_tensor.get_shape().as_list()\n",
    "        n_input_channels = input_shape[-1] \n",
    "        \n",
    "        weights_shape = (list(kernel_size) + [n_input_channels, n_output_channels]) # [3,3,3,3]\n",
    "        weights = tf.get_variable(\n",
    "            name='_weights'\n",
    "            ,shape=weights_shape)\n",
    "        print(weights)\n",
    "        \n",
    "        biases = tf.get_variable(\n",
    "            name='_biases'\n",
    "            ,initializer=tf.zeros(shape=[n_output_channels])) # 初期値は0\n",
    "        print(biases)\n",
    "        \n",
    "        # conv :: 畳み込みもしくはプーリング層の中間出力結果\n",
    "        # tf.nn.conv2d :: 畳み込み層で利用\n",
    "        conv = tf.nn.conv2d(\n",
    "            input=input_tensor\n",
    "            ,filter=weights\n",
    "            ,strides=strides \n",
    "            ,padding=padding_mode)\n",
    "        print(conv)\n",
    "        \n",
    "        # tf.nn.bias_add :: 重みを積和したものにバイアスを加算する際に利用\n",
    "        conv = tf.nn.bias_add(conv,biases,name='net_pre-activation')\n",
    "        print(conv)\n",
    "        \n",
    "        # tf.nn.relu :: 畳み込み層のアクティベーション関数としてReLuを利用\n",
    "        conv = tf.nn.relu(conv, name='activation')\n",
    "        print(conv)\n",
    "        \n",
    "        return conv"
   ]
  },
  {
   "cell_type": "code",
   "execution_count": 104,
   "metadata": {},
   "outputs": [
    {
     "name": "stdout",
     "output_type": "stream",
     "text": [
      "<tf.Variable 'convtest/_weights:0' shape=(3, 3, 1, 32) dtype=float32_ref>\n",
      "<tf.Variable 'convtest/_biases:0' shape=(32,) dtype=float32_ref>\n",
      "Tensor(\"convtest/Conv2D:0\", shape=(?, 28, 28, 32), dtype=float32)\n",
      "Tensor(\"convtest/net_pre-activation:0\", shape=(?, 28, 28, 32), dtype=float32)\n",
      "Tensor(\"convtest/activation:0\", shape=(?, 28, 28, 32), dtype=float32)\n"
     ]
    }
   ],
   "source": [
    "## testing\n",
    "g = tf.Graph()\n",
    "with g.as_default():\n",
    "    x = tf.placeholder(tf.float32, shape=[None, 28, 28, 1])\n",
    "    conv_layer(x, name='convtest', kernel_size=(3, 3), n_output_channels=32)"
   ]
  },
  {
   "cell_type": "markdown",
   "metadata": {},
   "source": [
    "### CNNの実装(全結合層)"
   ]
  },
  {
   "cell_type": "code",
   "execution_count": 105,
   "metadata": {},
   "outputs": [
    {
     "data": {
      "text/plain": [
       "[50, 28, 1]"
      ]
     },
     "execution_count": 105,
     "metadata": {},
     "output_type": "execute_result"
    }
   ],
   "source": [
    "# get_shapeの検証\n",
    "xx = tf.placeholder(tf.float32, shape=[None, 50, 28, 1])\n",
    "xx.get_shape().as_list()[1:]"
   ]
  },
  {
   "cell_type": "code",
   "execution_count": 106,
   "metadata": {},
   "outputs": [],
   "source": [
    "def fc_layer(\n",
    "    input_tensor            # インプットテンソル\n",
    "    ,name                   # 名前\n",
    "    ,n_output_units         # 出力ユニット数\n",
    "    ,activation_fn=None):\n",
    "    \n",
    "    with tf.variable_scope(name):\n",
    "        input_shape = input_tensor.get_shape().as_list()[1:] # テンソルのインデックス1以降をリスト化\n",
    "        n_input_units = np.prod(input_shape)                 # np.prod() :: 配列要素の積\n",
    "        \n",
    "        if len(input_shape) > 1:\n",
    "            input_tensor = tf.reshape(input_tensor,shape=(-1, n_input_units))\n",
    "        \n",
    "        # 重み\n",
    "        weights_shape = [n_input_units, n_output_units]\n",
    "        weights = tf.get_variable(name='_weights',shape=weights_shape)\n",
    "        print(weights)\n",
    "        \n",
    "        # バイアス\n",
    "        biases = tf.get_variable(name='_biases',initializer=tf.zeros(shape=[n_output_units]))\n",
    "        print(biases)\n",
    "        \n",
    "        # 行列積\n",
    "        layer = tf.matmul(input_tensor, weights)\n",
    "        print(layer)\n",
    "        \n",
    "        # バイアスの加算\n",
    "        layer = tf.nn.bias_add(layer, biases,name='net_pre-activation')\n",
    "        print(layer)\n",
    "        \n",
    "        # 活性化関数\n",
    "        if activation_fn is None:\n",
    "            return layer\n",
    "        \n",
    "        layer = activation_fn(layer, name='activation')\n",
    "        print(layer)\n",
    "        return layer"
   ]
  },
  {
   "cell_type": "code",
   "execution_count": 107,
   "metadata": {},
   "outputs": [
    {
     "name": "stdout",
     "output_type": "stream",
     "text": [
      "<tf.Variable 'fctest/_weights:0' shape=(784, 32) dtype=float32_ref>\n",
      "<tf.Variable 'fctest/_biases:0' shape=(32,) dtype=float32_ref>\n",
      "Tensor(\"fctest/MatMul:0\", shape=(?, 32), dtype=float32)\n",
      "Tensor(\"fctest/net_pre-activation:0\", shape=(?, 32), dtype=float32)\n",
      "Tensor(\"fctest/activation:0\", shape=(?, 32), dtype=float32)\n"
     ]
    }
   ],
   "source": [
    "g = tf.Graph()\n",
    "with g.as_default():\n",
    "    x = tf.placeholder(tf.float32, \n",
    "                       shape=[None, 28, 28, 1])\n",
    "    fc_layer(x, name='fctest', n_output_units=32, \n",
    "             activation_fn=tf.nn.relu)"
   ]
  },
  {
   "cell_type": "markdown",
   "metadata": {},
   "source": [
    "### CNNの構築"
   ]
  },
  {
   "cell_type": "code",
   "execution_count": 114,
   "metadata": {},
   "outputs": [],
   "source": [
    "def build_cnn(learning_rate=1e-4):\n",
    "    # Xとyのプレースホルダ―を作成\n",
    "    tf_x = tf.placeholder(tf.float32, shape=[None, 784], name='tf_x')\n",
    "    tf_y = tf.placeholder(tf.int32, shape=[None], name='tf_y')\n",
    "    \n",
    "    # xを4次元テンソルに変換 :: [バッチサイズ, 幅, 高さ, 1]\n",
    "    tf_x_image = tf.reshape(tf_x, shape=[-1, 28, 28, 1], name='tf_x_reshaped')\n",
    "    \n",
    "    # one-hotエンコーディング\n",
    "    tf_y_onehot = tf.one_hot(\n",
    "        indices=tf_y\n",
    "        ,depth=10\n",
    "        ,dtype=tf.float32\n",
    "        ,name='tf_y_onehot'\n",
    "    )\n",
    "    \n",
    "    ## 1st layer: 畳み込み層\n",
    "    print('\\nBuilding 1st layer: ')\n",
    "    h1 = conv_layer(tf_x_image, name='conv_1',\n",
    "                    kernel_size=(5, 5), \n",
    "                    padding_mode='VALID',\n",
    "                    n_output_channels=32)\n",
    "    \n",
    "    ## 最大値プーリング\n",
    "    h1_pool = tf.nn.max_pool(h1, \n",
    "                             ksize=[1, 2, 2, 1],\n",
    "                             strides=[1, 2, 2, 1], \n",
    "                             padding='SAME')\n",
    "    ## 2n layer: 畳み込み層\n",
    "    print('\\nBuilding 2nd layer: ')\n",
    "    h2 = conv_layer(h1_pool, name='conv_2', \n",
    "                    kernel_size=(5,5), \n",
    "                    padding_mode='VALID',\n",
    "                    n_output_channels=64)\n",
    "    \n",
    "    ## 最大値プーリング\n",
    "    h2_pool = tf.nn.max_pool(h2, \n",
    "                             ksize=[1, 2, 2, 1],\n",
    "                             strides=[1, 2, 2, 1], \n",
    "                             padding='SAME')\n",
    "\n",
    "    ## 3rd layer: 全結合層\n",
    "    print('\\nBuilding 3rd layer:')\n",
    "    h3 = fc_layer(h2_pool, name='fc_3',\n",
    "                  n_output_units=1024, \n",
    "                  activation_fn=tf.nn.relu)\n",
    "\n",
    "    ## ドロップアウト :: 過学習防止のための仕組み :: 必要がなさそうなノードは削除する\n",
    "    # keep_prob :: 削除率\n",
    "    keep_prob = tf.placeholder(tf.float32, name='fc_keep_prob')\n",
    "    h3_drop = tf.nn.dropout(h3, keep_prob=keep_prob, \n",
    "                            name='dropout_layer')\n",
    "\n",
    "    ## 4th layer: 全結合層(線形活性化)\n",
    "    print('\\nBuilding 4th layer:')\n",
    "    h4 = fc_layer(h3_drop, name='fc_4',\n",
    "                  n_output_units=10, \n",
    "                  activation_fn=None)\n",
    "\n",
    "    ## 予測\n",
    "    predictions = {\n",
    "        'probabilities' : tf.nn.softmax(h4, name='probabilities'),\n",
    "        'labels' : tf.cast(tf.argmax(h4, axis=1), tf.int32,\n",
    "                           name='labels')\n",
    "    }\n",
    "    \n",
    "    ## TensorBoardで計算グラフを可視化\n",
    "\n",
    "    ## 損失関数と最適化\n",
    "    # tf.reduce_mean :: 与えたリストに入っている数値の平均値を求める関数\n",
    "    # tf.nn.softmax_cross_entropy_with_logits :: 基本的に推計結果のsoftmax値を計算して、クロスエントロピーを算出\n",
    "    # ソフトマックス関数 :: 出力を正規化（０から１に収める）をする\n",
    "    # クロスエントロピー :: 集合Aと集合Bの乱雑さの度合い\n",
    "    cross_entropy_loss = tf.reduce_mean(\n",
    "        tf.nn.softmax_cross_entropy_with_logits(\n",
    "            logits=h4, labels=tf_y_onehot),\n",
    "        name='cross_entropy_loss')\n",
    "\n",
    "    ## オプティマイザ: 最適化アルゴリズム :: 学習をより高速により効率よく収束させる方法\n",
    "    optimizer = tf.train.AdamOptimizer(learning_rate)\n",
    "    optimizer = optimizer.minimize(cross_entropy_loss,\n",
    "                                   name='train_op')\n",
    "\n",
    "    ## 予測正解率を特定\n",
    "    correct_predictions = tf.equal(\n",
    "        predictions['labels']\n",
    "        , tf_y\n",
    "        , name='correct_preds')\n",
    "\n",
    "    accuracy = tf.reduce_mean(\n",
    "        tf.cast(correct_predictions, tf.float32)\n",
    "        ,name='accuracy')"
   ]
  },
  {
   "cell_type": "code",
   "execution_count": 109,
   "metadata": {},
   "outputs": [],
   "source": [
    "def save(saver, sess, epoch, path='./model/'):\n",
    "    if not os.path.isdir(path):\n",
    "        os.makedirs(path)\n",
    "    print('Saving model in %s' % path)\n",
    "    saver.save(sess, os.path.join(path,'cnn-model.ckpt'),global_step=epoch)\n",
    "\n",
    "def load(saver, sess, path, epoch):\n",
    "    print('Loading model from %s' % path)\n",
    "    saver.restore(sess, os.path.join(path, 'cnn-model.ckpt-%d' % epoch))"
   ]
  },
  {
   "cell_type": "code",
   "execution_count": 111,
   "metadata": {},
   "outputs": [],
   "source": [
    "def train(sess, training_set, validation_set=None,\n",
    "          initialize=True, epochs=20, shuffle=True,\n",
    "          dropout=0.5, random_seed=None):\n",
    "\n",
    "    X_data = np.array(training_set[0])\n",
    "    y_data = np.array(training_set[1])\n",
    "    training_loss = []\n",
    "\n",
    "    ## initialize variables\n",
    "    if initialize:\n",
    "        sess.run(tf.global_variables_initializer())\n",
    "\n",
    "    np.random.seed(random_seed) # for shuflling in batch_generator\n",
    "    for epoch in range(1, epochs+1):\n",
    "        batch_gen = batch_generator(\n",
    "                        X_data, y_data, \n",
    "                        shuffle=shuffle)\n",
    "        avg_loss = 0.0\n",
    "        for i,(batch_x,batch_y) in enumerate(batch_gen):\n",
    "            feed = {'tf_x:0': batch_x, \n",
    "                    'tf_y:0': batch_y, \n",
    "                    'fc_keep_prob:0': dropout}\n",
    "            loss, _ = sess.run(\n",
    "                    ['cross_entropy_loss:0', 'train_op'],\n",
    "                    feed_dict=feed)\n",
    "            avg_loss += loss\n",
    "\n",
    "        training_loss.append(avg_loss / (i+1))\n",
    "        print('Epoch %02d Training Avg. Loss: %7.3f' % (\n",
    "            epoch, avg_loss), end=' ')\n",
    "        if validation_set is not None:\n",
    "            feed = {'tf_x:0': validation_set[0],\n",
    "                    'tf_y:0': validation_set[1],\n",
    "                    'fc_keep_prob:0':1.0}\n",
    "            valid_acc = sess.run('accuracy:0', feed_dict=feed)\n",
    "            print(' Validation Acc: %7.3f' % valid_acc)\n",
    "        else:\n",
    "            print()\n",
    "\n",
    "            \n",
    "def predict(sess, X_test, return_proba=False):\n",
    "    feed = {'tf_x:0': X_test, \n",
    "            'fc_keep_prob:0': 1.0}\n",
    "    if return_proba:\n",
    "        return sess.run('probabilities:0', feed_dict=feed)\n",
    "    else:\n",
    "        return sess.run('labels:0', feed_dict=feed)"
   ]
  },
  {
   "cell_type": "code",
   "execution_count": 112,
   "metadata": {},
   "outputs": [],
   "source": [
    "# seed値を固定\n",
    "random_seed = 123\n",
    "np.random.seed(random_seed)"
   ]
  },
  {
   "cell_type": "code",
   "execution_count": 115,
   "metadata": {},
   "outputs": [
    {
     "name": "stdout",
     "output_type": "stream",
     "text": [
      "\n",
      "Building 1st layer: \n",
      "<tf.Variable 'conv_1/_weights:0' shape=(5, 5, 1, 32) dtype=float32_ref>\n",
      "<tf.Variable 'conv_1/_biases:0' shape=(32,) dtype=float32_ref>\n",
      "Tensor(\"conv_1/Conv2D:0\", shape=(?, 24, 24, 32), dtype=float32)\n",
      "Tensor(\"conv_1/net_pre-activation:0\", shape=(?, 24, 24, 32), dtype=float32)\n",
      "Tensor(\"conv_1/activation:0\", shape=(?, 24, 24, 32), dtype=float32)\n",
      "\n",
      "Building 2nd layer: \n",
      "<tf.Variable 'conv_2/_weights:0' shape=(5, 5, 32, 64) dtype=float32_ref>\n",
      "<tf.Variable 'conv_2/_biases:0' shape=(64,) dtype=float32_ref>\n",
      "Tensor(\"conv_2/Conv2D:0\", shape=(?, 8, 8, 64), dtype=float32)\n",
      "Tensor(\"conv_2/net_pre-activation:0\", shape=(?, 8, 8, 64), dtype=float32)\n",
      "Tensor(\"conv_2/activation:0\", shape=(?, 8, 8, 64), dtype=float32)\n",
      "\n",
      "Building 3rd layer:\n",
      "<tf.Variable 'fc_3/_weights:0' shape=(1024, 1024) dtype=float32_ref>\n",
      "<tf.Variable 'fc_3/_biases:0' shape=(1024,) dtype=float32_ref>\n",
      "Tensor(\"fc_3/MatMul:0\", shape=(?, 1024), dtype=float32)\n",
      "Tensor(\"fc_3/net_pre-activation:0\", shape=(?, 1024), dtype=float32)\n",
      "Tensor(\"fc_3/activation:0\", shape=(?, 1024), dtype=float32)\n",
      "\n",
      "Building 4th layer:\n",
      "<tf.Variable 'fc_4/_weights:0' shape=(1024, 10) dtype=float32_ref>\n",
      "<tf.Variable 'fc_4/_biases:0' shape=(10,) dtype=float32_ref>\n",
      "Tensor(\"fc_4/MatMul:0\", shape=(?, 10), dtype=float32)\n",
      "Tensor(\"fc_4/net_pre-activation:0\", shape=(?, 10), dtype=float32)\n"
     ]
    }
   ],
   "source": [
    "# tfで計算グラフを作成\n",
    "g = tf.Graph()\n",
    "with g.as_default():\n",
    "    tf.set_random_seed(random_seed)\n",
    "    ## build the graph\n",
    "    build_cnn()\n",
    "\n",
    "    ## saver:\n",
    "    saver = tf.train.Saver()"
   ]
  },
  {
   "cell_type": "code",
   "execution_count": 121,
   "metadata": {},
   "outputs": [
    {
     "name": "stdout",
     "output_type": "stream",
     "text": [
      "Epoch 01 Training Avg. Loss: 272.265  Validation Acc:   0.973\n",
      "Epoch 02 Training Avg. Loss:  76.135  Validation Acc:   0.983\n",
      "Epoch 03 Training Avg. Loss:  51.042  Validation Acc:   0.987\n",
      "Epoch 04 Training Avg. Loss:  40.399  Validation Acc:   0.987\n",
      "Epoch 05 Training Avg. Loss:  33.019  Validation Acc:   0.988\n",
      "Epoch 06 Training Avg. Loss:  26.448  Validation Acc:   0.989\n",
      "Epoch 07 Training Avg. Loss:  23.095  Validation Acc:   0.989\n",
      "Epoch 08 Training Avg. Loss:  19.834  Validation Acc:   0.990\n",
      "Epoch 09 Training Avg. Loss:  17.755  Validation Acc:   0.990\n",
      "Epoch 10 Training Avg. Loss:  14.942  Validation Acc:   0.991\n",
      "Epoch 11 Training Avg. Loss:  13.460  Validation Acc:   0.990\n",
      "Epoch 12 Training Avg. Loss:  11.531  Validation Acc:   0.991\n",
      "Epoch 13 Training Avg. Loss:  10.258  Validation Acc:   0.992\n",
      "Epoch 14 Training Avg. Loss:   8.869  Validation Acc:   0.992\n",
      "Epoch 15 Training Avg. Loss:   7.698  Validation Acc:   0.990\n",
      "Epoch 16 Training Avg. Loss:   7.373  Validation Acc:   0.990\n",
      "Epoch 17 Training Avg. Loss:   6.955  Validation Acc:   0.992\n",
      "Epoch 18 Training Avg. Loss:   5.914  Validation Acc:   0.993\n",
      "Epoch 19 Training Avg. Loss:   5.436  Validation Acc:   0.991\n",
      "Epoch 20 Training Avg. Loss:   4.467  Validation Acc:   0.993\n",
      "Saving model in ./model/\n"
     ]
    }
   ],
   "source": [
    "# CNNモデルのトレーニングを実施\n",
    "with tf.Session(graph=g) as sess:\n",
    "    train(sess, \n",
    "          training_set=(X_train_centered, y_train), \n",
    "          validation_set=(X_valid_centered, y_valid), \n",
    "          initialize=True,\n",
    "          random_seed=123)\n",
    "    save(saver, sess, epoch=20)"
   ]
  },
  {
   "cell_type": "code",
   "execution_count": 123,
   "metadata": {},
   "outputs": [
    {
     "name": "stdout",
     "output_type": "stream",
     "text": [
      "\n",
      "Building 1st layer: \n",
      "<tf.Variable 'conv_1/_weights:0' shape=(5, 5, 1, 32) dtype=float32_ref>\n",
      "<tf.Variable 'conv_1/_biases:0' shape=(32,) dtype=float32_ref>\n",
      "Tensor(\"conv_1/Conv2D:0\", shape=(?, 24, 24, 32), dtype=float32)\n",
      "Tensor(\"conv_1/net_pre-activation:0\", shape=(?, 24, 24, 32), dtype=float32)\n",
      "Tensor(\"conv_1/activation:0\", shape=(?, 24, 24, 32), dtype=float32)\n",
      "\n",
      "Building 2nd layer: \n",
      "<tf.Variable 'conv_2/_weights:0' shape=(5, 5, 32, 64) dtype=float32_ref>\n",
      "<tf.Variable 'conv_2/_biases:0' shape=(64,) dtype=float32_ref>\n",
      "Tensor(\"conv_2/Conv2D:0\", shape=(?, 8, 8, 64), dtype=float32)\n",
      "Tensor(\"conv_2/net_pre-activation:0\", shape=(?, 8, 8, 64), dtype=float32)\n",
      "Tensor(\"conv_2/activation:0\", shape=(?, 8, 8, 64), dtype=float32)\n",
      "\n",
      "Building 3rd layer:\n",
      "<tf.Variable 'fc_3/_weights:0' shape=(1024, 1024) dtype=float32_ref>\n",
      "<tf.Variable 'fc_3/_biases:0' shape=(1024,) dtype=float32_ref>\n",
      "Tensor(\"fc_3/MatMul:0\", shape=(?, 1024), dtype=float32)\n",
      "Tensor(\"fc_3/net_pre-activation:0\", shape=(?, 1024), dtype=float32)\n",
      "Tensor(\"fc_3/activation:0\", shape=(?, 1024), dtype=float32)\n",
      "\n",
      "Building 4th layer:\n",
      "<tf.Variable 'fc_4/_weights:0' shape=(1024, 10) dtype=float32_ref>\n",
      "<tf.Variable 'fc_4/_biases:0' shape=(10,) dtype=float32_ref>\n",
      "Tensor(\"fc_4/MatMul:0\", shape=(?, 10), dtype=float32)\n",
      "Tensor(\"fc_4/net_pre-activation:0\", shape=(?, 10), dtype=float32)\n",
      "Loading model from ./model/\n",
      "INFO:tensorflow:Restoring parameters from ./model/cnn-model.ckpt-20\n",
      "Test Accuracy: 99.300%\n"
     ]
    }
   ],
   "source": [
    "# 既存のセッションを削除して新しいセッションを作成\n",
    "del g\n",
    "\n",
    "g2 = tf.Graph()\n",
    "\n",
    "with g2.as_default():\n",
    "    tf.set_random_seed(random_seed)\n",
    "    build_cnn()\n",
    "    saver = tf.train.Saver()\n",
    "\n",
    "# モデルを復元\n",
    "with tf.Session(graph=g2) as sess:\n",
    "    load(saver, sess, epoch=20, path='./model/')\n",
    "    # 予測正解率を計算\n",
    "    preds = predict(sess, X_test_centered, return_proba=False)\n",
    "    print('Test Accuracy: %.3f%%' % (100*np.sum(preds == y_test)/len(y_test)))"
   ]
  },
  {
   "cell_type": "code",
   "execution_count": 124,
   "metadata": {},
   "outputs": [
    {
     "name": "stdout",
     "output_type": "stream",
     "text": [
      "Loading model from ./model/\n",
      "INFO:tensorflow:Restoring parameters from ./model/cnn-model.ckpt-20\n",
      "[7 2 1 0 4 1 4 9 5 9]\n",
      "[[0. 0. 0. 0. 0. 0. 0. 1. 0. 0.]\n",
      " [0. 0. 1. 0. 0. 0. 0. 0. 0. 0.]\n",
      " [0. 1. 0. 0. 0. 0. 0. 0. 0. 0.]\n",
      " [1. 0. 0. 0. 0. 0. 0. 0. 0. 0.]\n",
      " [0. 0. 0. 0. 1. 0. 0. 0. 0. 0.]\n",
      " [0. 1. 0. 0. 0. 0. 0. 0. 0. 0.]\n",
      " [0. 0. 0. 0. 1. 0. 0. 0. 0. 0.]\n",
      " [0. 0. 0. 0. 0. 0. 0. 0. 0. 1.]\n",
      " [0. 0. 0. 0. 0. 1. 0. 0. 0. 0.]\n",
      " [0. 0. 0. 0. 0. 0. 0. 0. 0. 1.]]\n"
     ]
    }
   ],
   "source": [
    "# 上記の予測結果を10コ可視化する(予測されたラベル & それらの確率)\n",
    "# precision :: 小数点以下の桁数\n",
    "# suppress :: 指数表記にする/しない\n",
    "np.set_printoptions(precision=2, suppress=True)\n",
    "\n",
    "with tf.Session(graph=g2) as sess:\n",
    "    load(saver, sess, \n",
    "         epoch=20, path='./model/')\n",
    "        \n",
    "    print(predict(sess, X_test_centered[:10], \n",
    "              return_proba=False))\n",
    "    \n",
    "    print(predict(sess, X_test_centered[:10], \n",
    "                  return_proba=True))"
   ]
  },
  {
   "cell_type": "code",
   "execution_count": 125,
   "metadata": {},
   "outputs": [
    {
     "name": "stdout",
     "output_type": "stream",
     "text": [
      "Loading model from ./model/\n",
      "INFO:tensorflow:Restoring parameters from ./model/cnn-model.ckpt-20\n",
      "Epoch 01 Training Avg. Loss:   4.240  Validation Acc:   0.992\n",
      "Epoch 02 Training Avg. Loss:   3.690  Validation Acc:   0.993\n",
      "Epoch 03 Training Avg. Loss:   4.006  Validation Acc:   0.993\n",
      "Epoch 04 Training Avg. Loss:   3.141  Validation Acc:   0.992\n",
      "Epoch 05 Training Avg. Loss:   3.226  Validation Acc:   0.992\n",
      "Epoch 06 Training Avg. Loss:   3.621  Validation Acc:   0.992\n",
      "Epoch 07 Training Avg. Loss:   2.602  Validation Acc:   0.993\n",
      "Epoch 08 Training Avg. Loss:   2.317  Validation Acc:   0.992\n",
      "Epoch 09 Training Avg. Loss:   2.487  Validation Acc:   0.992\n",
      "Epoch 10 Training Avg. Loss:   2.124  Validation Acc:   0.992\n",
      "Epoch 11 Training Avg. Loss:   2.231  Validation Acc:   0.991\n",
      "Epoch 12 Training Avg. Loss:   1.892  Validation Acc:   0.992\n",
      "Epoch 13 Training Avg. Loss:   2.035  Validation Acc:   0.991\n",
      "Epoch 14 Training Avg. Loss:   2.532  Validation Acc:   0.992\n",
      "Epoch 15 Training Avg. Loss:   1.776  Validation Acc:   0.992\n",
      "Epoch 16 Training Avg. Loss:   1.159  Validation Acc:   0.993\n",
      "Epoch 17 Training Avg. Loss:   1.736  Validation Acc:   0.992\n",
      "Epoch 18 Training Avg. Loss:   1.575  Validation Acc:   0.993\n",
      "Epoch 19 Training Avg. Loss:   1.286  Validation Acc:   0.992\n",
      "Epoch 20 Training Avg. Loss:   1.859  Validation Acc:   0.993\n",
      "Saving model in ./model/\n",
      "Test Accuracy: 99.320%\n"
     ]
    }
   ],
   "source": [
    "# 40エポックになるまでモデルを更にトレーニングしてみる\n",
    "with tf.Session(graph=g2) as sess:\n",
    "    # モデルをロード\n",
    "    load(saver, sess, epoch=20, path='./model/')\n",
    "    \n",
    "    # 追加の20エポックの訓練\n",
    "    train(sess,\n",
    "          training_set=(X_train_centered, y_train), \n",
    "          validation_set=(X_valid_centered, y_valid),\n",
    "          initialize=False,\n",
    "          epochs=20,\n",
    "          random_seed=123)\n",
    "        \n",
    "    save(saver, sess, epoch=40, path='./model/')\n",
    "    \n",
    "    # 予測\n",
    "    preds = predict(sess, X_test_centered, return_proba=False)\n",
    "    \n",
    "    print('Test Accuracy: %.3f%%' % (100*np.sum(preds == y_test)/len(y_test)))"
   ]
  },
  {
   "cell_type": "code",
   "execution_count": null,
   "metadata": {},
   "outputs": [],
   "source": []
  },
  {
   "cell_type": "code",
   "execution_count": null,
   "metadata": {},
   "outputs": [],
   "source": []
  },
  {
   "cell_type": "code",
   "execution_count": null,
   "metadata": {},
   "outputs": [],
   "source": []
  },
  {
   "cell_type": "code",
   "execution_count": null,
   "metadata": {},
   "outputs": [],
   "source": []
  },
  {
   "cell_type": "code",
   "execution_count": null,
   "metadata": {},
   "outputs": [],
   "source": []
  },
  {
   "cell_type": "code",
   "execution_count": null,
   "metadata": {},
   "outputs": [],
   "source": []
  }
 ],
 "metadata": {
  "kernelspec": {
   "display_name": "Python 3",
   "language": "python",
   "name": "python3"
  },
  "language_info": {
   "codemirror_mode": {
    "name": "ipython",
    "version": 3
   },
   "file_extension": ".py",
   "mimetype": "text/x-python",
   "name": "python",
   "nbconvert_exporter": "python",
   "pygments_lexer": "ipython3",
   "version": "3.6.5"
  }
 },
 "nbformat": 4,
 "nbformat_minor": 2
}
