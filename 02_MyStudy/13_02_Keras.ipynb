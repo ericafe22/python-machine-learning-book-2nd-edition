{
 "cells": [
  {
   "cell_type": "code",
   "execution_count": 34,
   "metadata": {},
   "outputs": [],
   "source": [
    "import os\n",
    "import numpy as np\n",
    "import tensorflow as tf\n",
    "import tensorflow.keras as keras"
   ]
  },
  {
   "cell_type": "code",
   "execution_count": 35,
   "metadata": {},
   "outputs": [],
   "source": [
    "import struct\n",
    " \n",
    "def load_mnist(path, kind='train'):\n",
    "    labels_path = os.path.join(path, '%s-labels.idx1-ubyte' % kind).replace('\\\\','/')\n",
    "    images_path = os.path.join(path, '%s-images.idx3-ubyte' % kind).replace('\\\\','/')\n",
    "        \n",
    "    with open(labels_path, 'rb') as lbpath:\n",
    "        magic, n = struct.unpack('>II', lbpath.read(8))\n",
    "        labels = np.fromfile(lbpath, dtype=np.uint8)\n",
    "\n",
    "    with open(images_path, 'rb') as imgpath:\n",
    "        magic, num, rows, cols = struct.unpack(\">IIII\", \n",
    "                                               imgpath.read(16))\n",
    "        images = np.fromfile(imgpath, dtype=np.uint8).reshape(len(labels), 784)\n",
    "        images = ((images / 255.) - .5) * 2\n",
    " \n",
    "    return images, labels"
   ]
  },
  {
   "cell_type": "code",
   "execution_count": 36,
   "metadata": {},
   "outputs": [
    {
     "name": "stdout",
     "output_type": "stream",
     "text": [
      "Rows: 60000,  Columns: 784\n"
     ]
    }
   ],
   "source": [
    "current_path = os.path.join(os.getcwd(),'mnist')\n",
    "X_train, y_train = load_mnist(current_path, kind='train')\n",
    "print('Rows: %d,  Columns: %d' %(X_train.shape[0], X_train.shape[1]))"
   ]
  },
  {
   "cell_type": "code",
   "execution_count": 37,
   "metadata": {},
   "outputs": [
    {
     "name": "stdout",
     "output_type": "stream",
     "text": [
      "Rows: 10000, columns: 784\n"
     ]
    }
   ],
   "source": [
    "X_test, y_test = load_mnist(current_path, kind='t10k')\n",
    "print('Rows: %d, columns: %d' % (X_test.shape[0], X_test.shape[1]))"
   ]
  },
  {
   "cell_type": "code",
   "execution_count": 38,
   "metadata": {},
   "outputs": [
    {
     "name": "stdout",
     "output_type": "stream",
     "text": [
      "(60000, 784) (60000,)\n",
      "(10000, 784) (10000,)\n"
     ]
    }
   ],
   "source": [
    "# 平均&標準化\n",
    "mean_vals = np.mean(X_train, axis=0)\n",
    "std_val = np.std(X_train)\n",
    "\n",
    "# 中心化\n",
    "X_train_centered = (X_train - mean_vals)/std_val\n",
    "X_test_centered = (X_test - mean_vals)/std_val\n",
    "\n",
    "del X_train, X_test\n",
    "\n",
    "print(X_train_centered.shape, y_train.shape)\n",
    "print(X_test_centered.shape, y_test.shape)"
   ]
  },
  {
   "cell_type": "code",
   "execution_count": 39,
   "metadata": {},
   "outputs": [],
   "source": [
    "np.random.seed(123)\n",
    "tf.set_random_seed(19)"
   ]
  },
  {
   "cell_type": "code",
   "execution_count": 40,
   "metadata": {},
   "outputs": [
    {
     "name": "stdout",
     "output_type": "stream",
     "text": [
      "First 3 labels:  [5 0 4]\n",
      "\n",
      "First 3 labels (one-hot):\n",
      " [[0. 0. 0. 0. 0. 1. 0. 0. 0. 0.]\n",
      " [1. 0. 0. 0. 0. 0. 0. 0. 0. 0.]\n",
      " [0. 0. 0. 0. 1. 0. 0. 0. 0. 0.]]\n"
     ]
    }
   ],
   "source": [
    "# kerasのワンホット表現\n",
    "y_train_onehot = keras.utils.to_categorical(y_train)\n",
    " \n",
    "print('First 3 labels: ', y_train[:3])\n",
    "print('\\nFirst 3 labels (one-hot):\\n', y_train_onehot[:3])"
   ]
  },
  {
   "cell_type": "markdown",
   "metadata": {},
   "source": [
    "### Kerasによるニューラルネットワークの作成"
   ]
  },
  {
   "cell_type": "code",
   "execution_count": 41,
   "metadata": {},
   "outputs": [],
   "source": [
    "model = keras.models.Sequential()\n",
    "\n",
    "model.add(\n",
    "    keras.layers.Dense(\n",
    "        units=50,    \n",
    "        input_dim=X_train_centered.shape[1],\n",
    "        kernel_initializer='glorot_uniform',\n",
    "        bias_initializer='zeros',\n",
    "        activation='tanh'))\n",
    "\n",
    "model.add(\n",
    "    keras.layers.Dense(\n",
    "        units=50,    \n",
    "        input_dim=50,\n",
    "        kernel_initializer='glorot_uniform',\n",
    "        bias_initializer='zeros',\n",
    "        activation='tanh'))\n",
    "\n",
    "model.add(\n",
    "    keras.layers.Dense(\n",
    "        units=y_train_onehot.shape[1],    \n",
    "        input_dim=50,\n",
    "        kernel_initializer='glorot_uniform',\n",
    "        bias_initializer='zeros',\n",
    "        activation='softmax'))\n",
    "\n",
    "\n",
    "sgd_optimizer = keras.optimizers.SGD(lr=0.001, decay=1e-7, momentum=.9)\n",
    "\n",
    "model.compile(optimizer=sgd_optimizer,loss='categorical_crossentropy')"
   ]
  },
  {
   "cell_type": "code",
   "execution_count": 42,
   "metadata": {},
   "outputs": [
    {
     "name": "stdout",
     "output_type": "stream",
     "text": [
      "Train on 54000 samples, validate on 6000 samples\n",
      "Epoch 1/50\n",
      "54000/54000 [==============================] - 2s 38us/sample - loss: 0.7406 - val_loss: 0.3680\n",
      "Epoch 2/50\n",
      "54000/54000 [==============================] - 2s 38us/sample - loss: 0.3747 - val_loss: 0.2778\n",
      "Epoch 3/50\n",
      "54000/54000 [==============================] - 2s 34us/sample - loss: 0.3080 - val_loss: 0.2396\n",
      "Epoch 4/50\n",
      "54000/54000 [==============================] - 2s 36us/sample - loss: 0.2715 - val_loss: 0.2163\n",
      "Epoch 5/50\n",
      "54000/54000 [==============================] - 2s 37us/sample - loss: 0.2461 - val_loss: 0.2005\n",
      "Epoch 6/50\n",
      "54000/54000 [==============================] - 2s 35us/sample - loss: 0.2265 - val_loss: 0.1857\n",
      "Epoch 7/50\n",
      "54000/54000 [==============================] - 2s 38us/sample - loss: 0.2103 - val_loss: 0.1759\n",
      "Epoch 8/50\n",
      "54000/54000 [==============================] - 2s 34us/sample - loss: 0.1966 - val_loss: 0.1673\n",
      "Epoch 9/50\n",
      "54000/54000 [==============================] - 2s 34us/sample - loss: 0.1846 - val_loss: 0.1603\n",
      "Epoch 10/50\n",
      "54000/54000 [==============================] - 2s 39us/sample - loss: 0.1743 - val_loss: 0.1542\n",
      "Epoch 11/50\n",
      "54000/54000 [==============================] - 2s 34us/sample - loss: 0.1648 - val_loss: 0.1491\n",
      "Epoch 12/50\n",
      "54000/54000 [==============================] - 2s 35us/sample - loss: 0.1564 - val_loss: 0.1440\n",
      "Epoch 13/50\n",
      "54000/54000 [==============================] - 2s 38us/sample - loss: 0.1487 - val_loss: 0.1405\n",
      "Epoch 14/50\n",
      "54000/54000 [==============================] - 2s 34us/sample - loss: 0.1418 - val_loss: 0.1368\n",
      "Epoch 15/50\n",
      "54000/54000 [==============================] - 2s 35us/sample - loss: 0.1354 - val_loss: 0.1339\n",
      "Epoch 16/50\n",
      "54000/54000 [==============================] - 2s 38us/sample - loss: 0.1297 - val_loss: 0.1311\n",
      "Epoch 17/50\n",
      "54000/54000 [==============================] - 2s 35us/sample - loss: 0.1242 - val_loss: 0.1284\n",
      "Epoch 18/50\n",
      "54000/54000 [==============================] - 2s 34us/sample - loss: 0.1193 - val_loss: 0.1276\n",
      "Epoch 19/50\n",
      "54000/54000 [==============================] - 2s 36us/sample - loss: 0.1144 - val_loss: 0.1266\n",
      "Epoch 20/50\n",
      "54000/54000 [==============================] - 2s 32us/sample - loss: 0.1102 - val_loss: 0.1239\n",
      "Epoch 21/50\n",
      "54000/54000 [==============================] - 2s 31us/sample - loss: 0.1060 - val_loss: 0.1234\n",
      "Epoch 22/50\n",
      "54000/54000 [==============================] - 2s 36us/sample - loss: 0.1021 - val_loss: 0.1217\n",
      "Epoch 23/50\n",
      "54000/54000 [==============================] - 2s 31us/sample - loss: 0.0985 - val_loss: 0.1208\n",
      "Epoch 24/50\n",
      "54000/54000 [==============================] - 2s 30us/sample - loss: 0.0950 - val_loss: 0.1203\n",
      "Epoch 25/50\n",
      "54000/54000 [==============================] - 2s 35us/sample - loss: 0.0918 - val_loss: 0.1185\n",
      "Epoch 26/50\n",
      "54000/54000 [==============================] - 2s 31us/sample - loss: 0.0887 - val_loss: 0.1175\n",
      "Epoch 27/50\n",
      "54000/54000 [==============================] - 2s 31us/sample - loss: 0.0857 - val_loss: 0.1183\n",
      "Epoch 28/50\n",
      "54000/54000 [==============================] - 2s 33us/sample - loss: 0.0828 - val_loss: 0.1163\n",
      "Epoch 29/50\n",
      "54000/54000 [==============================] - 2s 33us/sample - loss: 0.0800 - val_loss: 0.1161\n",
      "Epoch 30/50\n",
      "54000/54000 [==============================] - 2s 31us/sample - loss: 0.0776 - val_loss: 0.1146\n",
      "Epoch 31/50\n",
      "54000/54000 [==============================] - 2s 31us/sample - loss: 0.0751 - val_loss: 0.1152\n",
      "Epoch 32/50\n",
      "54000/54000 [==============================] - 2s 36us/sample - loss: 0.0728 - val_loss: 0.1150\n",
      "Epoch 33/50\n",
      "54000/54000 [==============================] - 2s 32us/sample - loss: 0.0706 - val_loss: 0.1140\n",
      "Epoch 34/50\n",
      "54000/54000 [==============================] - 2s 32us/sample - loss: 0.0683 - val_loss: 0.1137\n",
      "Epoch 35/50\n",
      "54000/54000 [==============================] - 2s 35us/sample - loss: 0.0663 - val_loss: 0.1132\n",
      "Epoch 36/50\n",
      "54000/54000 [==============================] - 2s 32us/sample - loss: 0.0644 - val_loss: 0.1132\n",
      "Epoch 37/50\n",
      "54000/54000 [==============================] - 2s 31us/sample - loss: 0.0624 - val_loss: 0.1129\n",
      "Epoch 38/50\n",
      "54000/54000 [==============================] - 2s 35us/sample - loss: 0.0605 - val_loss: 0.1121\n",
      "Epoch 39/50\n",
      "54000/54000 [==============================] - 2s 31us/sample - loss: 0.0589 - val_loss: 0.1117\n",
      "Epoch 40/50\n",
      "54000/54000 [==============================] - 2s 31us/sample - loss: 0.0571 - val_loss: 0.1112\n",
      "Epoch 41/50\n",
      "54000/54000 [==============================] - 2s 35us/sample - loss: 0.0555 - val_loss: 0.1114\n",
      "Epoch 42/50\n",
      "54000/54000 [==============================] - 2s 31us/sample - loss: 0.0540 - val_loss: 0.1117\n",
      "Epoch 43/50\n",
      "54000/54000 [==============================] - 2s 36us/sample - loss: 0.0525 - val_loss: 0.1121\n",
      "Epoch 44/50\n",
      "54000/54000 [==============================] - 2s 36us/sample - loss: 0.0510 - val_loss: 0.1117\n",
      "Epoch 45/50\n",
      "54000/54000 [==============================] - 2s 32us/sample - loss: 0.0497 - val_loss: 0.1115\n",
      "Epoch 46/50\n",
      "54000/54000 [==============================] - 2s 32us/sample - loss: 0.0482 - val_loss: 0.1124\n",
      "Epoch 47/50\n",
      "54000/54000 [==============================] - 2s 35us/sample - loss: 0.0469 - val_loss: 0.1117\n",
      "Epoch 48/50\n",
      "54000/54000 [==============================] - 2s 32us/sample - loss: 0.0457 - val_loss: 0.1113\n",
      "Epoch 49/50\n",
      "54000/54000 [==============================] - 2s 32us/sample - loss: 0.0445 - val_loss: 0.1125\n",
      "Epoch 50/50\n",
      "54000/54000 [==============================] - 2s 35us/sample - loss: 0.0434 - val_loss: 0.1115\n"
     ]
    }
   ],
   "source": [
    "history = model.fit(X_train_centered, y_train_onehot,\n",
    "                    batch_size=64, epochs=50,\n",
    "                    verbose=1,\n",
    "                    validation_split=0.1)"
   ]
  },
  {
   "cell_type": "code",
   "execution_count": 43,
   "metadata": {},
   "outputs": [
    {
     "name": "stdout",
     "output_type": "stream",
     "text": [
      "First 3 predictions:  [5 0 4]\n"
     ]
    }
   ],
   "source": [
    "y_train_pred = model.predict_classes(X_train_centered, verbose=0)\n",
    "print('First 3 predictions: ', y_train_pred[:3])"
   ]
  },
  {
   "cell_type": "code",
   "execution_count": 44,
   "metadata": {},
   "outputs": [
    {
     "name": "stdout",
     "output_type": "stream",
     "text": [
      "First 3 predictions:  [5 0 4]\n",
      "Training accuracy: 99.00%\n"
     ]
    }
   ],
   "source": [
    "y_train_pred = model.predict_classes(X_train_centered, \n",
    "                                     verbose=0)\n",
    "correct_preds = np.sum(y_train == y_train_pred, axis=0) \n",
    "train_acc = correct_preds / y_train.shape[0]\n",
    "\n",
    "print('First 3 predictions: ', y_train_pred[:3])\n",
    "print('Training accuracy: %.2f%%' % (train_acc * 100))"
   ]
  },
  {
   "cell_type": "code",
   "execution_count": 45,
   "metadata": {},
   "outputs": [
    {
     "name": "stdout",
     "output_type": "stream",
     "text": [
      "Test accuracy: 96.55%\n"
     ]
    }
   ],
   "source": [
    "y_test_pred = model.predict_classes(X_test_centered, \n",
    "                                    verbose=0)\n",
    "\n",
    "correct_preds = np.sum(y_test == y_test_pred, axis=0) \n",
    "test_acc = correct_preds / y_test.shape[0]\n",
    "print('Test accuracy: %.2f%%' % (test_acc * 100))"
   ]
  }
 ],
 "metadata": {
  "kernelspec": {
   "display_name": "Python 3",
   "language": "python",
   "name": "python3"
  },
  "language_info": {
   "codemirror_mode": {
    "name": "ipython",
    "version": 3
   },
   "file_extension": ".py",
   "mimetype": "text/x-python",
   "name": "python",
   "nbconvert_exporter": "python",
   "pygments_lexer": "ipython3",
   "version": "3.6.5"
  }
 },
 "nbformat": 4,
 "nbformat_minor": 2
}
