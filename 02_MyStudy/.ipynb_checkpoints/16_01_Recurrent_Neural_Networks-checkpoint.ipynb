{
 "cells": [
  {
   "cell_type": "markdown",
   "metadata": {},
   "source": [
    "### データセットのインポート"
   ]
  },
  {
   "cell_type": "code",
   "execution_count": 11,
   "metadata": {},
   "outputs": [
    {
     "name": "stdout",
     "output_type": "stream",
     "text": [
      "                                              review  sentiment\n",
      "0  I went and saw this movie last night after bei...          1\n",
      "1  Actor turned director Bill Paxton follows up h...          1\n",
      "2  As a recreational golfer with some knowledge o...          1\n"
     ]
    }
   ],
   "source": [
    "import pyprind\n",
    "import pandas as pd\n",
    "from string import punctuation\n",
    "import re\n",
    "import numpy as np\n",
    "\n",
    "df = pd.read_csv('movie_data.csv', encoding='utf-8')\n",
    "print(df.head(3))"
   ]
  },
  {
   "cell_type": "markdown",
   "metadata": {},
   "source": [
    "### テキストを一連の整数に変換する"
   ]
  },
  {
   "cell_type": "code",
   "execution_count": 20,
   "metadata": {},
   "outputs": [],
   "source": [
    "from collections import Counter\n",
    "\n",
    "# 単語に分割して各単語の出現回数をカウント\n",
    "# punctuationが入っていれば前後の文字も1つの単語としてカウント\n",
    "# punctuation :: !\"#$%&'()*+,-./:;<=>?@[\\]^_`{|}~.\n",
    "counts = Counter()\n",
    "\n",
    "for i,review in enumerate(df['review']):\n",
    "    text = ''.join([c if c not in punctuation else ''+c+'' for c in review]).lower()\n",
    "    df.loc[i, 'review'] = text\n",
    "    counts.update(text.split())"
   ]
  },
  {
   "cell_type": "code",
   "execution_count": 49,
   "metadata": {},
   "outputs": [
    {
     "name": "stdout",
     "output_type": "stream",
     "text": [
      "Counter({'a': 1, 'b': 1, 'c': 1})\n",
      "Counter({'a': 2, 'b': 2, 'c': 2})\n"
     ]
    }
   ],
   "source": [
    "# カウンタークラスの検証\n",
    "c = Counter()\n",
    "c.update(['a','b','c'])\n",
    "print(c)\n",
    "c.update(['a','b','c'])\n",
    "print(c)"
   ]
  },
  {
   "cell_type": "code",
   "execution_count": 63,
   "metadata": {},
   "outputs": [
    {
     "name": "stdout",
     "output_type": "stream",
     "text": [
      "['the', 'a', 'and', 'of', 'to']\n",
      "3\n"
     ]
    }
   ],
   "source": [
    "# マッピングを作成\n",
    "# 一意な単語をそれぞれ整数にマッピング\n",
    "\n",
    "# カウンタを多い順にソート\n",
    "word_counts = sorted(counts, key=counts.get, reverse=True)\n",
    "print(word_counts[:5])\n",
    "\n",
    "# 出現数が多いものから順番に1～インデックスをはる\n",
    "# 辞書型\n",
    "word_to_int = {word: ii for ii, word in enumerate(word_counts, 1)} # インデックスの取得を1から\n",
    "print(word_to_int[\"and\"])\n",
    "\n",
    "# REVIEWの文章に単語の出現順位をマップしていく\n",
    "mapped_reviews = []\n",
    "\n",
    "for review in df['review']:\n",
    "    mapped_reviews.append([word_to_int[word] for word in review.split()])"
   ]
  },
  {
   "cell_type": "markdown",
   "metadata": {},
   "source": [
    "### 長さを整える"
   ]
  },
  {
   "cell_type": "code",
   "execution_count": 65,
   "metadata": {},
   "outputs": [],
   "source": [
    "# RNNは入力が同じ長さでないとだめ\n",
    "# sequence_length以下の場合 :: 左側を0パディング\n",
    "# sequence_length以上の場合 :: 左の数字を省略\n",
    "sequence_length = 200\n",
    "sequences = np.zeros((len(mapped_reviews), sequence_length), dtype=int)\n",
    "for i, row in enumerate(mapped_reviews):\n",
    "    review_arr = np.array(row)\n",
    "    sequences[i, -len(row):] = review_arr[-sequence_length:] # 後ろから〇〇個の要素を取得"
   ]
  },
  {
   "cell_type": "markdown",
   "metadata": {},
   "source": [
    "### データ"
   ]
  },
  {
   "cell_type": "code",
   "execution_count": 68,
   "metadata": {},
   "outputs": [],
   "source": [
    "# データを訓練用とテスト用に分ける\n",
    "X_train = sequences[:25000, :]\n",
    "y_train = df.loc[:25000, 'sentiment'].values\n",
    "X_test = sequences[25000:, :]\n",
    "y_test = df.loc[25000:, 'sentiment'].values"
   ]
  },
  {
   "cell_type": "markdown",
   "metadata": {},
   "source": [
    "### ミニバッチ"
   ]
  },
  {
   "cell_type": "code",
   "execution_count": 70,
   "metadata": {},
   "outputs": [],
   "source": [
    "# ミニバッチ用の関数を定義\n",
    "def create_batch_generator(x, y=None, batch_size=64):\n",
    "    # 整数の商を取得\n",
    "    n_batches = len(x)//batch_size\n",
    "    \n",
    "    # 対象の数字までをスライス\n",
    "    x= x[:n_batches*batch_size]\n",
    "    \n",
    "    if y is not None:\n",
    "        y = y[:n_batches*batch_size]\n",
    "    for ii in range(0, len(x), batch_size):\n",
    "        if y is not None:\n",
    "            yield x[ii:ii+batch_size], y[ii:ii+batch_size]\n",
    "        else:\n",
    "            yield x[ii:ii+batch_size]"
   ]
  },
  {
   "cell_type": "markdown",
   "metadata": {},
   "source": [
    "### 埋め込み(一意な単語をベクトルで表現)"
   ]
  },
  {
   "cell_type": "code",
   "execution_count": 75,
   "metadata": {},
   "outputs": [],
   "source": [
    "# 埋め込み(一意な単語をベクトルで表現)\n",
    "embedding = tf.Variable(\n",
    "    tf.random_uniform(shape=(n_words, embedding_size),minval=1,maxval=1))\n",
    "# 一意な単語に対応するベクトルを特定\n",
    "embed_x = tf.nn.embedding_lookup(embedding, tf_x)"
   ]
  },
  {
   "cell_type": "markdown",
   "metadata": {},
   "source": [
    "### RNNモデルの構築"
   ]
  },
  {
   "cell_type": "code",
   "execution_count": 73,
   "metadata": {},
   "outputs": [
    {
     "name": "stdout",
     "output_type": "stream",
     "text": [
      "WARNING:tensorflow:From C:\\Users\\rika\\Anaconda3\\lib\\site-packages\\tensorflow_core\\python\\compat\\v2_compat.py:65: disable_resource_variables (from tensorflow.python.ops.variable_scope) is deprecated and will be removed in a future version.\n",
      "Instructions for updating:\n",
      "non-resource variables are not supported in the long term\n"
     ]
    }
   ],
   "source": [
    "import tensorflow.compat.v1 as tf\n",
    "tf.disable_v2_behavior()\n",
    "import numpy as np"
   ]
  },
  {
   "cell_type": "code",
   "execution_count": null,
   "metadata": {},
   "outputs": [],
   "source": [
    "### 構成は以下 ###\n",
    "# コンストラクタ\n",
    "# buildメソッド\n",
    "# trainメソッド\n",
    "# predictメソッド\n",
    "\n",
    "class SentimentRNN(object):\n",
    "    def __init__(self\n",
    "                 , n_words\n",
    "                 , seq_len=200\n",
    "                 ,lstm_size=256\n",
    "                 , num_layers=1\n",
    "                 , batch_size=64\n",
    "                 ,learning_rate=0.0001\n",
    "                 , embed_size=200):\n",
    "            \n",
    "        self.n_words = n_words              # 一意な単語の数\n",
    "        self.seq_len = seq_len              # sequenceの長さ\n",
    "        self.lstm_size = lstm_size          # 隠れユニットの個数\n",
    "        self.num_layers = num_layers        # レイヤー数\n",
    "        self.batch_size = batch_size        # バッチサイズ\n",
    "        self.learning_rate = learning_rate  # 学習率\n",
    "        self.embed_size = embed_size        # 一意な単語を表現するためのベクトルの箱数\n",
    "\n",
    "        # 計算グラフを作成\n",
    "        self.g = tf.Graph()\n",
    "        with self.g.as_default():\n",
    "            tf.set_random_seed(123)\n",
    "            self.build()\n",
    "            self.saver = tf.train.Saver()\n",
    "            self.init_op = tf.global_variables_initializer()\n",
    "    \n",
    "    def build(self):\n",
    "        # 各プレースホルダーを定義\n",
    "        # 入力データ\n",
    "        tf_x = tf.placeholder(\n",
    "            tf.int32\n",
    "            ,shape=(self.batch_size, self.seq_len)\n",
    "            ,name='tf_x')\n",
    "        # 入力ラベル\n",
    "        tf_y = tf.placeholder(\n",
    "            tf.float32\n",
    "            ,shape=(self.batch_size)\n",
    "            ,name='tf_y')\n",
    "        # ドロップアウトのキープ率\n",
    "        tf_keepprob = tf.placeholder(\n",
    "            tf.float32\n",
    "            ,name='tf_keepprob')\n",
    "        \n",
    "        # 埋め込み層を作成\n",
    "        embedding = tf.Variable(\n",
    "                    tf.random_uniform(\n",
    "                        (self.n_words, self.embed_size),\n",
    "                        minval=-1, maxval=1),\n",
    "                    name='embedding')\n",
    "        embed_x = tf.nn.embedding_lookup(\n",
    "                    embedding, tf_x, \n",
    "                    name='embeded_x')\n",
    "        \n",
    "        # LSTMセル(長短期記憶)を定義し、積み上げる\n",
    "        cells = tf.contrib.rnn.MultiRNNCell(\n",
    "                [tf.contrib.rnn.DropoutWrapper(\n",
    "                   tf.contrib.rnn.BasicLSTMCell(self.lstm_size),\n",
    "                   output_keep_prob=tf_keepprob)\n",
    "                 for i in range(self.num_layers)])\n",
    "        \n",
    "        # LSTMの初期状態を定義(全て0を設定)\n",
    "        self.initial_state = cells.zero_state(self.batch_size, tf.float32)\n",
    "        print('  << initial state >> ', self.initial_state)\n",
    "        \n",
    "        # LSTMのアウトプットと最終状態\n",
    "        lstm_outputs, self.final_state = tf.nn.dynamic_rnn(\n",
    "            cells\n",
    "            ,embed_x\n",
    "            ,initial_state=self.initial_state)\n",
    "        \n",
    "        print('\\n  << lstm_output   >> ', lstm_outputs)      # バッチサイズ,最大時間,アウトプットサイズ\n",
    "        print('\\n  << final state   >> ', self.final_state)\n",
    "        \n",
    "        # RNNの出力後に全結合層を適用"
   ]
  },
  {
   "cell_type": "code",
   "execution_count": null,
   "metadata": {},
   "outputs": [],
   "source": []
  },
  {
   "cell_type": "code",
   "execution_count": null,
   "metadata": {},
   "outputs": [],
   "source": []
  },
  {
   "cell_type": "code",
   "execution_count": null,
   "metadata": {},
   "outputs": [],
   "source": []
  },
  {
   "cell_type": "code",
   "execution_count": null,
   "metadata": {},
   "outputs": [],
   "source": []
  },
  {
   "cell_type": "code",
   "execution_count": null,
   "metadata": {},
   "outputs": [],
   "source": []
  },
  {
   "cell_type": "code",
   "execution_count": null,
   "metadata": {},
   "outputs": [],
   "source": []
  },
  {
   "cell_type": "code",
   "execution_count": null,
   "metadata": {},
   "outputs": [],
   "source": []
  },
  {
   "cell_type": "code",
   "execution_count": null,
   "metadata": {},
   "outputs": [],
   "source": []
  },
  {
   "cell_type": "code",
   "execution_count": null,
   "metadata": {},
   "outputs": [],
   "source": []
  }
 ],
 "metadata": {
  "kernelspec": {
   "display_name": "Python 3",
   "language": "python",
   "name": "python3"
  },
  "language_info": {
   "codemirror_mode": {
    "name": "ipython",
    "version": 3
   },
   "file_extension": ".py",
   "mimetype": "text/x-python",
   "name": "python",
   "nbconvert_exporter": "python",
   "pygments_lexer": "ipython3",
   "version": "3.6.5"
  }
 },
 "nbformat": 4,
 "nbformat_minor": 2
}
