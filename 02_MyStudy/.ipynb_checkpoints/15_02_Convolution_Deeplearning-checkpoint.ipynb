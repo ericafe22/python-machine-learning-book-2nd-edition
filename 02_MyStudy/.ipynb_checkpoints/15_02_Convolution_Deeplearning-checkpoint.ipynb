{
 "cells": [
  {
   "cell_type": "markdown",
   "metadata": {},
   "source": [
    "# CNNの実装(TensorFlowのLayersAPIを利用)"
   ]
  },
  {
   "cell_type": "markdown",
   "metadata": {},
   "source": [
    "### mnistファイルの読み込み"
   ]
  },
  {
   "cell_type": "code",
   "execution_count": 1,
   "metadata": {},
   "outputs": [],
   "source": [
    "import sys\n",
    "import gzip\n",
    "import shutil\n",
    "import os"
   ]
  },
  {
   "cell_type": "code",
   "execution_count": 2,
   "metadata": {},
   "outputs": [
    {
     "data": {
      "text/plain": [
       "['./mnist2/t10k-images-idx3-ubyte.gz',\n",
       " './mnist2/t10k-labels-idx1-ubyte.gz',\n",
       " './mnist2/train-images-idx3-ubyte.gz',\n",
       " './mnist2/train-labels-idx1-ubyte.gz']"
      ]
     },
     "execution_count": 2,
     "metadata": {},
     "output_type": "execute_result"
    }
   ],
   "source": [
    "#zipファイルのリスト取得\n",
    "if (sys.version_info > (3, 0)):\n",
    "    writemode = 'wb'\n",
    "else:\n",
    "    writemode = 'w'\n",
    "\n",
    "zipped_mnist_tmp = [f for f in os.listdir('./mnist2/') if f.endswith('ubyte.gz')]\n",
    "zipped_mnist_tmp\n",
    "\n",
    "# Listにファイルパスを追記\n",
    "zipped_mnist = []\n",
    "for file_name in zipped_mnist_tmp:\n",
    "    file_path = './mnist2/' + file_name\n",
    "    zipped_mnist.append(file_path)\n",
    "zipped_mnist"
   ]
  },
  {
   "cell_type": "code",
   "execution_count": null,
   "metadata": {},
   "outputs": [],
   "source": [
    "#gzファイルを解凍\n",
    "for z in zipped_mnist:\n",
    "    with gzip.GzipFile(z, mode='rb') as decompressed, open(z[:-3], writemode) as outfile:\n",
    "        outfile.write(decompressed.read())"
   ]
  },
  {
   "cell_type": "code",
   "execution_count": 3,
   "metadata": {},
   "outputs": [],
   "source": [
    "# load関数を定義\n",
    "import struct\n",
    "import numpy as np\n",
    "\n",
    "def load_mnist(path, kind='train'):\n",
    "    labels_path = os.path.join(path,'%s-labels-idx1-ubyte'%kind)\n",
    "    images_path = os.path.join(path,'%s-images-idx3-ubyte'%kind)\n",
    "    \n",
    "    with open(labels_path, 'rb') as lbpath:\n",
    "        # big endian::unsigned int::unsigned int\n",
    "        # 頭の8バイトはヘッダ\n",
    "        magic, n = struct.unpack('>II',lbpath.read(8))\n",
    "        # 8ビットの符号なし整数\n",
    "        labels = np.fromfile(lbpath, dtype=np.uint8)\n",
    "        \n",
    "    with open(images_path,'rb') as imgpath:\n",
    "        magic, num, rows, cols = struct.unpack(\">IIII\", imgpath.read(16))\n",
    "        images = np.fromfile(imgpath, dtype=np.uint8).reshape(len(labels), 784)\n",
    "    \n",
    "    return images, labels"
   ]
  },
  {
   "cell_type": "code",
   "execution_count": 4,
   "metadata": {},
   "outputs": [
    {
     "name": "stdout",
     "output_type": "stream",
     "text": [
      "Rows: 60000,  Columns: 784\n",
      "Rows: 10000,  Columns: 784\n",
      "Training:    (50000, 784) (50000,)\n",
      "Validation:  (10000, 784) (10000,)\n",
      "Test Set:    (10000, 784) (10000,)\n"
     ]
    }
   ],
   "source": [
    "# データの読み込み\n",
    "# 784 = 28×28\n",
    "X_data, y_data = load_mnist('./mnist2/', kind='train')\n",
    "print('Rows: %d,  Columns: %d' % (X_data.shape[0], X_data.shape[1]))\n",
    "X_test, y_test = load_mnist('./mnist2/', kind='t10k')\n",
    "print('Rows: %d,  Columns: %d' % (X_test.shape[0], X_test.shape[1]))\n",
    "\n",
    "X_train, y_train = X_data[:50000,:], y_data[:50000]\n",
    "X_valid, y_valid = X_data[50000:,:], y_data[50000:]\n",
    "\n",
    "print('Training:   ', X_train.shape, y_train.shape)\n",
    "print('Validation: ', X_valid.shape, y_valid.shape)\n",
    "print('Test Set:   ', X_test.shape, y_test.shape)"
   ]
  },
  {
   "cell_type": "markdown",
   "metadata": {},
   "source": [
    "### 正規化"
   ]
  },
  {
   "cell_type": "code",
   "execution_count": 5,
   "metadata": {},
   "outputs": [],
   "source": [
    "mean_vals = np.mean(X_train, axis=0)\n",
    "std_val = np.std(X_train)\n",
    "\n",
    "X_train_centered = (X_train - mean_vals)/std_val\n",
    "X_valid_centered = (X_valid - mean_vals)/std_val\n",
    "X_test_centered = (X_test - mean_vals)/std_val\n"
   ]
  },
  {
   "cell_type": "markdown",
   "metadata": {},
   "source": [
    "### ミニバッチ"
   ]
  },
  {
   "cell_type": "code",
   "execution_count": 12,
   "metadata": {},
   "outputs": [],
   "source": [
    "# データをミニバッチごとに処理する関数の定義\n",
    "def batch_generator(X, y, batch_size=64, shuffle=False, random_seed=None):\n",
    "    # 1ずつの等差数列を作成\n",
    "    idx = np.arange(y.shape[0])\n",
    "    \n",
    "    # INDEXのシャッフル\n",
    "    if shuffle:\n",
    "        rng = np.random.RandomState(random_seed)\n",
    "        rng.shuffle(idx)\n",
    "        X = X[idx]\n",
    "        y = y[idx]\n",
    "    \n",
    "    for i in range(0, X.shape[0], batch_size):\n",
    "        yield ( X[i:i+batch_size, :], y[i:i+batch_size])"
   ]
  },
  {
   "cell_type": "markdown",
   "metadata": {},
   "source": [
    "### CNN API"
   ]
  },
  {
   "cell_type": "code",
   "execution_count": 6,
   "metadata": {},
   "outputs": [
    {
     "name": "stdout",
     "output_type": "stream",
     "text": [
      "WARNING:tensorflow:From C:\\Users\\rika\\Anaconda3\\lib\\site-packages\\tensorflow_core\\python\\compat\\v2_compat.py:65: disable_resource_variables (from tensorflow.python.ops.variable_scope) is deprecated and will be removed in a future version.\n",
      "Instructions for updating:\n",
      "non-resource variables are not supported in the long term\n"
     ]
    }
   ],
   "source": [
    "import tensorflow.compat.v1 as tf\n",
    "tf.disable_v2_behavior()\n",
    "import numpy as np"
   ]
  },
  {
   "cell_type": "code",
   "execution_count": 13,
   "metadata": {},
   "outputs": [],
   "source": [
    "class ConvNN(object):\n",
    "    def __init__(self, batchsize=64,\n",
    "                 epochs=20, learning_rate=1e-4, \n",
    "                 dropout_rate=0.5,\n",
    "                 shuffle=True, random_seed=None):\n",
    "        np.random.seed(random_seed)\n",
    "        self.batchsize = batchsize\n",
    "        self.epochs = epochs\n",
    "        self.learning_rate = learning_rate\n",
    "        self.dropout_rate = dropout_rate\n",
    "        self.shuffle = shuffle\n",
    "                \n",
    "        g = tf.Graph()\n",
    "        \n",
    "        # TensorFlowセッションの作成\n",
    "        with g.as_default():\n",
    "            ## set random-seed:\n",
    "            tf.set_random_seed(random_seed)\n",
    "            \n",
    "            ## build the network:\n",
    "            self.build()\n",
    "\n",
    "            ## initializer\n",
    "            self.init_op = tf.global_variables_initializer()\n",
    "\n",
    "            ## saver\n",
    "            self.saver = tf.train.Saver()\n",
    "            \n",
    "        ## create a session\n",
    "        self.sess = tf.Session(graph=g)\n",
    "                \n",
    "    def build(self):\n",
    "        \n",
    "        # 変数を定義\n",
    "        tf_x = tf.placeholder(tf.float32, \n",
    "                              shape=[None, 784],\n",
    "                              name='tf_x')\n",
    "        tf_y = tf.placeholder(tf.int32, \n",
    "                              shape=[None],\n",
    "                              name='tf_y')\n",
    "        is_train = tf.placeholder(tf.bool, \n",
    "                              shape=(),\n",
    "                              name='is_train')\n",
    "\n",
    "        # xを4次元テンソルに変換 :: [バッチサイズ, 幅, 高さ, 1]\n",
    "        tf_x_image = tf.reshape(tf_x, shape=[-1, 28, 28, 1],\n",
    "                              name='input_x_2dimages')\n",
    "        # one-hotエンコーディング\n",
    "        tf_y_onehot = tf.one_hot(indices=tf_y, depth=10,\n",
    "                              dtype=tf.float32,\n",
    "                              name='input_y_onehot')\n",
    "\n",
    "        ## 1st layer: 畳み込み層\n",
    "        h1 = tf.layers.conv2d(tf_x_image, \n",
    "                              kernel_size=(5, 5), \n",
    "                              filters=32, \n",
    "                              activation=tf.nn.relu)\n",
    "        ## 最大値プーリング\n",
    "        h1_pool = tf.layers.max_pooling2d(h1, \n",
    "                              pool_size=(2, 2), \n",
    "                              strides=(2, 2))\n",
    "        \n",
    "        ## 2n layer: 畳み込み層\n",
    "        h2 = tf.layers.conv2d(h1_pool, kernel_size=(5,5), \n",
    "                              filters=64, \n",
    "                              activation=tf.nn.relu)\n",
    "        ## 最大値プーリング\n",
    "        h2_pool = tf.layers.max_pooling2d(h2, \n",
    "                              pool_size=(2, 2), \n",
    "                              strides=(2, 2))\n",
    "\n",
    "        ## 3rd layer: 全結合層\n",
    "        input_shape = h2_pool.get_shape().as_list()\n",
    "        n_input_units = np.prod(input_shape[1:])\n",
    "        h2_pool_flat = tf.reshape(h2_pool, \n",
    "                              shape=[-1, n_input_units])\n",
    "        h3 = tf.layers.dense(h2_pool_flat, 1024, \n",
    "                              activation=tf.nn.relu)\n",
    "\n",
    "        ## ドロップアウト :: 過学習防止のための仕組み :: 必要がなさそうなノードは削除する\n",
    "        h3_drop = tf.layers.dropout(h3, \n",
    "                              rate=self.dropout_rate,\n",
    "                              training=is_train)\n",
    "        \n",
    "        ## 4th layer: 全結合層(線形活性化)\n",
    "        h4 = tf.layers.dense(h3_drop, 10, \n",
    "                              activation=None)\n",
    "\n",
    "        ## 予測\n",
    "        predictions = {\n",
    "            'probabilities': tf.nn.softmax(h4, \n",
    "                              name='probabilities'),\n",
    "            'labels': tf.cast(tf.argmax(h4, axis=1), \n",
    "                              tf.int32, name='labels')}\n",
    "        \n",
    "        ## 損失関数と最適化\n",
    "        cross_entropy_loss = tf.reduce_mean(\n",
    "            tf.nn.softmax_cross_entropy_with_logits(\n",
    "                logits=h4, labels=tf_y_onehot),\n",
    "            name='cross_entropy_loss')\n",
    "        \n",
    "        ## オプティマイザ: 最適化アルゴリズム\n",
    "        optimizer = tf.train.AdamOptimizer(self.learning_rate)\n",
    "        optimizer = optimizer.minimize(cross_entropy_loss,\n",
    "                                       name='train_op')\n",
    "\n",
    "        ## 予測正解率を特定\n",
    "        correct_predictions = tf.equal(\n",
    "            predictions['labels'], \n",
    "            tf_y, name='correct_preds')\n",
    "        \n",
    "        accuracy = tf.reduce_mean(\n",
    "            tf.cast(correct_predictions, tf.float32),\n",
    "            name='accuracy')\n",
    "\n",
    "    def save(self, epoch, path='./tflayers-model/'):\n",
    "        if not os.path.isdir(path):\n",
    "            os.makedirs(path)\n",
    "        print('Saving model in %s' % path)\n",
    "        self.saver.save(self.sess, \n",
    "                        os.path.join(path, 'model.ckpt'),\n",
    "                        global_step=epoch)\n",
    "        \n",
    "    def load(self, epoch, path):\n",
    "        print('Loading model from %s' % path)\n",
    "        self.saver.restore(self.sess, \n",
    "             os.path.join(path, 'model.ckpt-%d' % epoch))\n",
    "        \n",
    "    def train(self, training_set, \n",
    "              validation_set=None,\n",
    "              initialize=True):\n",
    "        ## initialize variables\n",
    "        if initialize:\n",
    "            self.sess.run(self.init_op)\n",
    "\n",
    "        self.train_cost_ = []\n",
    "        X_data = np.array(training_set[0])\n",
    "        y_data = np.array(training_set[1])\n",
    "\n",
    "        for epoch in range(1, self.epochs + 1):\n",
    "            batch_gen = \\\n",
    "                batch_generator(X_data, y_data, \n",
    "                                 shuffle=self.shuffle)\n",
    "            avg_loss = 0.0\n",
    "            for i, (batch_x,batch_y) in \\\n",
    "                enumerate(batch_gen):\n",
    "                feed = {'tf_x:0': batch_x, \n",
    "                        'tf_y:0': batch_y,\n",
    "                        'is_train:0': True} ## for dropout\n",
    "                loss, _ = self.sess.run(\n",
    "                        ['cross_entropy_loss:0', 'train_op'], \n",
    "                        feed_dict=feed)\n",
    "                avg_loss += loss\n",
    "                \n",
    "            print('Epoch %02d: Training Avg. Loss: '\n",
    "                  '%7.3f' % (epoch, avg_loss), end=' ')\n",
    "            if validation_set is not None:\n",
    "                feed = {'tf_x:0': batch_x, \n",
    "                        'tf_y:0': batch_y,\n",
    "                        'is_train:0': False} ## for dropout\n",
    "                valid_acc = self.sess.run('accuracy:0',\n",
    "                                          feed_dict=feed)\n",
    "                print('Validation Acc: %7.3f' % valid_acc)\n",
    "            else:\n",
    "                print()\n",
    "                    \n",
    "    def predict(self, X_test, return_proba = False):\n",
    "        feed = {'tf_x:0': X_test,\n",
    "                'is_train:0': False} ## for dropout\n",
    "        if return_proba:\n",
    "            return self.sess.run('probabilities:0',\n",
    "                                 feed_dict=feed)\n",
    "        else:\n",
    "            return self.sess.run('labels:0',\n",
    "                                 feed_dict=feed)"
   ]
  },
  {
   "cell_type": "code",
   "execution_count": 14,
   "metadata": {},
   "outputs": [],
   "source": [
    "cnn = ConvNN(random_seed=123)"
   ]
  },
  {
   "cell_type": "code",
   "execution_count": 15,
   "metadata": {},
   "outputs": [
    {
     "name": "stdout",
     "output_type": "stream",
     "text": [
      "Epoch 01: Training Avg. Loss: 270.945 Validation Acc:   1.000\n",
      "Epoch 02: Training Avg. Loss:  74.653 Validation Acc:   1.000\n",
      "Epoch 03: Training Avg. Loss:  50.725 Validation Acc:   1.000\n",
      "Epoch 04: Training Avg. Loss:  40.048 Validation Acc:   1.000\n",
      "Epoch 05: Training Avg. Loss:  32.473 Validation Acc:   1.000\n",
      "Epoch 06: Training Avg. Loss:  25.934 Validation Acc:   1.000\n",
      "Epoch 07: Training Avg. Loss:  23.162 Validation Acc:   1.000\n",
      "Epoch 08: Training Avg. Loss:  19.439 Validation Acc:   1.000\n",
      "Epoch 09: Training Avg. Loss:  17.291 Validation Acc:   1.000\n",
      "Epoch 10: Training Avg. Loss:  14.795 Validation Acc:   0.938\n",
      "Epoch 11: Training Avg. Loss:  12.616 Validation Acc:   1.000\n",
      "Epoch 12: Training Avg. Loss:  11.509 Validation Acc:   1.000\n",
      "Epoch 13: Training Avg. Loss:  10.712 Validation Acc:   1.000\n",
      "Epoch 14: Training Avg. Loss:   9.326 Validation Acc:   1.000\n",
      "Epoch 15: Training Avg. Loss:   7.527 Validation Acc:   1.000\n",
      "Epoch 16: Training Avg. Loss:   6.941 Validation Acc:   1.000\n",
      "Epoch 17: Training Avg. Loss:   6.506 Validation Acc:   1.000\n",
      "Epoch 18: Training Avg. Loss:   5.184 Validation Acc:   1.000\n",
      "Epoch 19: Training Avg. Loss:   5.123 Validation Acc:   1.000\n",
      "Epoch 20: Training Avg. Loss:   4.862 Validation Acc:   1.000\n",
      "Saving model in ./tflayers-model/\n"
     ]
    }
   ],
   "source": [
    "# 20エポックの学習\n",
    "cnn.train(training_set=(X_train_centered, y_train), \n",
    "          validation_set=(X_valid_centered, y_valid))\n",
    "\n",
    "cnn.save(epoch=20)"
   ]
  },
  {
   "cell_type": "code",
   "execution_count": 16,
   "metadata": {},
   "outputs": [
    {
     "name": "stdout",
     "output_type": "stream",
     "text": [
      "Loading model from ./tflayers-model/\n",
      "INFO:tensorflow:Restoring parameters from ./tflayers-model/model.ckpt-20\n",
      "[7 2 1 0 4 1 4 9 5 9]\n"
     ]
    }
   ],
   "source": [
    "# 予測の実施\n",
    "del cnn\n",
    "\n",
    "cnn2 = ConvNN(random_seed=123)\n",
    "\n",
    "cnn2.load(epoch=20, path='./tflayers-model/')\n",
    "\n",
    "print(cnn2.predict(X_test_centered[:10,:]))"
   ]
  },
  {
   "cell_type": "code",
   "execution_count": 17,
   "metadata": {},
   "outputs": [
    {
     "name": "stdout",
     "output_type": "stream",
     "text": [
      "Test Accuracy: 99.35%\n"
     ]
    }
   ],
   "source": [
    "# 正解率の測定\n",
    "preds = cnn2.predict(X_test_centered)\n",
    "\n",
    "print('Test Accuracy: %.2f%%' % (100*\n",
    "      np.sum(y_test == preds)/len(y_test)))"
   ]
  },
  {
   "cell_type": "code",
   "execution_count": null,
   "metadata": {},
   "outputs": [],
   "source": []
  },
  {
   "cell_type": "code",
   "execution_count": null,
   "metadata": {},
   "outputs": [],
   "source": []
  },
  {
   "cell_type": "code",
   "execution_count": null,
   "metadata": {},
   "outputs": [],
   "source": []
  },
  {
   "cell_type": "code",
   "execution_count": null,
   "metadata": {},
   "outputs": [],
   "source": []
  }
 ],
 "metadata": {
  "kernelspec": {
   "display_name": "Python 3",
   "language": "python",
   "name": "python3"
  },
  "language_info": {
   "codemirror_mode": {
    "name": "ipython",
    "version": 3
   },
   "file_extension": ".py",
   "mimetype": "text/x-python",
   "name": "python",
   "nbconvert_exporter": "python",
   "pygments_lexer": "ipython3",
   "version": "3.6.5"
  }
 },
 "nbformat": 4,
 "nbformat_minor": 2
}
