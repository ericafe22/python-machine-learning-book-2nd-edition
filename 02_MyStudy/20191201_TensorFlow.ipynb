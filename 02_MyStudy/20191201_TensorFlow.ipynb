{
 "cells": [
  {
   "cell_type": "code",
   "execution_count": 111,
   "metadata": {},
   "outputs": [],
   "source": [
    "import os\n",
    "import numpy as np\n",
    "import matplotlib.pyplot as plt\n",
    "import tensorflow.compat.v1 as tf\n",
    "tf.disable_v2_behavior()"
   ]
  },
  {
   "cell_type": "code",
   "execution_count": 112,
   "metadata": {},
   "outputs": [
    {
     "name": "stdout",
     "output_type": "stream",
     "text": [
      "<tf.Variable 'classifier/weights:0' shape=(100, 2) dtype=float32_ref>\n",
      "<tf.Variable 'classifier/bias:0' shape=(2,) dtype=float32_ref>\n",
      "Tensor(\"classifier/logits:0\", shape=(64, 2), dtype=float32)\n",
      "<tf.Variable 'classifier/weights:0' shape=(100, 2) dtype=float32_ref>\n",
      "<tf.Variable 'classifier/bias:0' shape=(2,) dtype=float32_ref>\n",
      "Tensor(\"classifier/logits_1:0\", shape=(64, 2), dtype=float32)\n"
     ]
    }
   ],
   "source": [
    "# 分類器\n",
    "def build_classifier(data, labels, n_classes=2):\n",
    "    data_shape = data.get_shape().as_list() # TensorshapeクラスのObject(テンソルの形状)\n",
    "    \n",
    "    weights = tf.get_variable(name='weights',shape=(data_shape[1], n_classes),dtype=tf.float32)\n",
    "    bias = tf.get_variable(name='bias', initializer=tf.zeros(shape=n_classes))\n",
    "    print(weights)\n",
    "    print(bias)\n",
    "    \n",
    "    # tf.matmul:行列積\n",
    "    # tf.add:総和\n",
    "    logits = tf.add(tf.matmul(data, weights), bias, name='logits')\n",
    "    print(logits)\n",
    "    return logits, tf.nn.softmax(logits) # 総出力 & SoftMax(総出力)\n",
    "\n",
    "# ジェネレータ\n",
    "def build_generator(data, n_hidden):\n",
    "    data_shape = data.get_shape().as_list()\n",
    "    \n",
    "    # tf.random_normal:正規分布の乱数生成\n",
    "    # tf.zeros:0の配列生成\n",
    "    w1 = tf.Variable(tf.random_normal(shape=(data_shape[1], n_hidden)),name='w1')\n",
    "    b1 = tf.Variable(tf.zeros(shape=n_hidden), name='b1')\n",
    "    hidden = tf.add(tf.matmul(data, w1), b1, name='hidden_pre-activation')\n",
    "    hidden = tf.nn.relu(hidden, 'hidden_activation')\n",
    "        \n",
    "    w2 = tf.Variable(tf.random_normal(shape=(n_hidden, data_shape[1])),name='w2')\n",
    "    b2 = tf.Variable(tf.zeros(shape=data_shape[1]),name='b2')\n",
    "    output = tf.add(tf.matmul(hidden, w2), b2, name = 'output')\n",
    "    \n",
    "    return output, tf.nn.sigmoid(output)\n",
    "\n",
    "# 計算グラフの構築\n",
    "batch_size=64\n",
    "g = tf.Graph()\n",
    "\n",
    "with g.as_default():\n",
    "    tf_X = tf.placeholder(shape=(batch_size, 100), dtype=tf.float32,name='tf_X')\n",
    "    with tf.variable_scope('generator'):\n",
    "        gen_out1 = build_generator(data=tf_X, n_hidden=50)\n",
    "    \n",
    "    with tf.variable_scope('classifier') as scope:\n",
    "        cls_out1 = build_classifier(data=tf_X, labels=tf.ones(shape=batch_size))\n",
    "        \n",
    "        scope.reuse_variables() # 変数の共有\n",
    "        cls_out2 = build_classifier(data=gen_out1[1],labels=tf.zeros(shape=batch_size))\n",
    "        \n",
    "        init_op = tf.global_variables_initializer()"
   ]
  },
  {
   "cell_type": "code",
   "execution_count": 113,
   "metadata": {},
   "outputs": [
    {
     "name": "stdout",
     "output_type": "stream",
     "text": [
      "<tf.Variable 'classifier/weights:0' shape=(100, 2) dtype=float32_ref>\n",
      "<tf.Variable 'classifier/bias:0' shape=(2,) dtype=float32_ref>\n",
      "Tensor(\"classifier/logits:0\", shape=(64, 2), dtype=float32)\n",
      "<tf.Variable 'classifier/weights:0' shape=(100, 2) dtype=float32_ref>\n",
      "<tf.Variable 'classifier/bias:0' shape=(2,) dtype=float32_ref>\n",
      "Tensor(\"classifier_1/logits:0\", shape=(64, 2), dtype=float32)\n"
     ]
    }
   ],
   "source": [
    "g = tf.Graph()\n",
    "\n",
    "with g.as_default():\n",
    "    tf_X = tf.placeholder(shape=(batch_size, 100), dtype=tf.float32,name='tf_X')\n",
    "    with tf.variable_scope('generator'):\n",
    "        gen_out1 = build_generator(data=tf_X, n_hidden=50)\n",
    "    \n",
    "    with tf.variable_scope('classifier'):\n",
    "        cls_out1 = build_classifier(data=tf_X, labels=tf.ones(shape=batch_size))\n",
    "        \n",
    "    with tf.variable_scope('classifier', reuse=True): # 変数の共有\n",
    "        cls_out2 = build_classifier(data=gen_out1[1],labels=tf.zeros(shape=batch_size))\n",
    "        \n",
    "        init_op = tf.global_variables_initializer()"
   ]
  },
  {
   "cell_type": "code",
   "execution_count": 114,
   "metadata": {},
   "outputs": [
    {
     "name": "stdout",
     "output_type": "stream",
     "text": [
      "<tf.Variable 'classifier/weights:0' shape=(100, 2) dtype=float32_ref>\n",
      "<tf.Variable 'classifier/bias:0' shape=(2,) dtype=float32_ref>\n",
      "Tensor(\"classifier/logits:0\", shape=(64, 2), dtype=float32)\n",
      "<tf.Variable 'classifier/weights:0' shape=(100, 2) dtype=float32_ref>\n",
      "<tf.Variable 'classifier/bias:0' shape=(2,) dtype=float32_ref>\n",
      "Tensor(\"classifier/logits_1:0\", shape=(64, 2), dtype=float32)\n"
     ]
    }
   ],
   "source": [
    "batch_size = 64\n",
    "g = tf.Graph()\n",
    "\n",
    "# build_generator\n",
    "\n",
    "with g.as_default():\n",
    "    tf_X = tf.placeholder(shape=(batch_size, 100), dtype=tf.float32,name='tf_X')\n",
    "    \n",
    "    # ジェネレータを構築\n",
    "    with tf.variable_scope('generator'):\n",
    "        gen_out1 = build_generator(data=tf_X, n_hidden=50)\n",
    "    \n",
    "    # 分類器を構築\n",
    "    with tf.variable_scope('classifier') as scope:\n",
    "        # tf_Xに対しての分類器\n",
    "        cls_out1 = build_classifier(data=tf_X, labels=tf.ones(shape=batch_size))\n",
    "        \n",
    "        # 生成されたデータに対しての分類器\n",
    "        scope.reuse_variables()\n",
    "        cls_out2 = build_classifier(data=gen_out1[1], labels=tf.zeros(shape=batch_size))"
   ]
  },
  {
   "cell_type": "code",
   "execution_count": 115,
   "metadata": {},
   "outputs": [],
   "source": [
    "with tf.Session(graph=g) as sess:\n",
    "    sess.run(tf.global_variables_initializer())\n",
    "    file_writer=tf.summary.FileWriter(logdir='./logs/', graph=g)"
   ]
  },
  {
   "cell_type": "code",
   "execution_count": 116,
   "metadata": {},
   "outputs": [],
   "source": [
    "# TensorBoardの起動\n",
    "# AnacondaNavigator\n",
    "# Environment->Prompt\n",
    "# cd JupyterDirectory\n",
    "# python -m tensorboard.main --logdir=./logs/ --host=127.0.0.1"
   ]
  },
  {
   "cell_type": "code",
   "execution_count": null,
   "metadata": {},
   "outputs": [],
   "source": []
  },
  {
   "cell_type": "markdown",
   "metadata": {},
   "source": [
    "# ここから記事用の素材作成"
   ]
  },
  {
   "cell_type": "markdown",
   "metadata": {},
   "source": [
    "### MINSTのデータセットを弄ってみる"
   ]
  },
  {
   "cell_type": "code",
   "execution_count": 117,
   "metadata": {},
   "outputs": [],
   "source": [
    "import struct\n",
    " \n",
    "def load_mnist(path, kind):\n",
    "    # ファイルのパスを設定\n",
    "    labels_path = os.path.join(path, '%s-labels.idx1-ubyte' % kind).replace('\\\\','/')\n",
    "    images_path = os.path.join(path, '%s-images.idx3-ubyte' % kind).replace('\\\\','/')\n",
    "        \n",
    "    with open(labels_path, 'rb') as lbpath:\n",
    "        magic, n = struct.unpack('>II', lbpath.read(8))\n",
    "        labels = np.fromfile(lbpath, dtype=np.uint8)\n",
    "\n",
    "    with open(images_path, 'rb') as imgpath:\n",
    "        magic, num, rows, cols = struct.unpack(\">IIII\", imgpath.read(16))\n",
    "        images = np.fromfile(imgpath, dtype=np.uint8).reshape(len(labels), 784) # 正解データ数×784\n",
    "        images = ((images / 255.) - .5) * 2  # -1~1の範囲で正規化\n",
    "        #images = ((images / 255.) - .5) # -0.5~0.5の範囲で正規化\n",
    "        #images = (images / 255.) # 0~1の範囲で正規化\n",
    " \n",
    "    return images, labels"
   ]
  },
  {
   "cell_type": "code",
   "execution_count": 118,
   "metadata": {},
   "outputs": [
    {
     "name": "stdout",
     "output_type": "stream",
     "text": [
      "Rows: 60000,  Columns: 784\n"
     ]
    }
   ],
   "source": [
    "current_path = os.path.join(os.getcwd(),'mnist')\n",
    "X_train, y_train = load_mnist(current_path, kind='train')\n",
    "print('Rows: %d,  Columns: %d' %(X_train.shape[0], X_train.shape[1]))"
   ]
  },
  {
   "cell_type": "code",
   "execution_count": 119,
   "metadata": {},
   "outputs": [
    {
     "name": "stdout",
     "output_type": "stream",
     "text": [
      "Rows: 10000, columns: 784\n"
     ]
    }
   ],
   "source": [
    "X_test, y_test = load_mnist(current_path, kind='t10k')\n",
    "print('Rows: %d, columns: %d' % (X_test.shape[0], X_test.shape[1]))"
   ]
  },
  {
   "cell_type": "code",
   "execution_count": 120,
   "metadata": {},
   "outputs": [
    {
     "data": {
      "image/png": "[encoded data removed]",
      "text/plain": [
       "<Figure size 432x288 with 10 Axes>"
      ]
     },
     "metadata": {},
     "output_type": "display_data"
    }
   ],
   "source": [
    "### せっかくなので可視化\n",
    "# 縦横2×5で描写、sharex・shareyでx軸とy軸を同期\n",
    "fig, ax = plt.subplots(nrows=2, ncols=5, sharex=True, sharey=True)\n",
    "# forループ中でax[i]だけで描写できるようになる\n",
    "ax = ax.flatten()\n",
    "\n",
    "for i in range(10):\n",
    "    # y_train(正解データ)が0～9のデータの0個目\n",
    "    img = X_train[y_train == i][0].reshape(28, 28)\n",
    "    ax[i].imshow(img, cmap='Greys')\n",
    "\n",
    "ax[0].set_xticks([]) #x軸を非表示\n",
    "ax[0].set_yticks([]) #y軸を非表示\n",
    "plt.tight_layout()   #レイアウトを調整してくれる\n",
    "plt.show()"
   ]
  },
  {
   "cell_type": "code",
   "execution_count": 121,
   "metadata": {},
   "outputs": [
    {
     "name": "stdout",
     "output_type": "stream",
     "text": [
      "(60000, 784) (60000,)\n",
      "(10000, 784) (10000,)\n"
     ]
    }
   ],
   "source": [
    "### 前処理\n",
    "mean_vals = np.mean(X_train, axis=0) # 平均値\n",
    "std_val = np.std(X_train) # 標準偏差\n",
    "\n",
    "# 中心化\n",
    "X_train_centered = (X_train - mean_vals)/std_val\n",
    "X_test_centered = (X_test - mean_vals)/std_val\n",
    "\n",
    "print(X_train_centered.shape, y_train.shape)\n",
    "print(X_test_centered.shape, y_test.shape)"
   ]
  },
  {
   "cell_type": "markdown",
   "metadata": {},
   "source": [
    "### バッチジェネレーター"
   ]
  },
  {
   "cell_type": "code",
   "execution_count": 122,
   "metadata": {},
   "outputs": [],
   "source": [
    "# データバッチ生成用のジェネレーター\n",
    "def create_batch_generator(X, y, batch_size=128, shuffle=True):\n",
    "    X_copy = np.array(X)\n",
    "    y_copy = np.array(y)\n",
    "    \n",
    "    if shuffle:\n",
    "        data = np.column_stack((X_copy, y_copy)) # X_copyとy_copyを列方向に結合\n",
    "        np.random.shuffle(data)                  # ランダムにシャッフル\n",
    "        X_copy = data[:, :-1]                    # X_copyを再度取得\n",
    "        y_copy = data[:, -1].astype(int)         # y_copyを再度取得\n",
    "        #print(data)\n",
    "        #print(X_copy)\n",
    "        #print(y_copy)\n",
    "        \n",
    "    for i in range(0, X.shape[0], batch_size):   # 0～X_行の数だけbatchsizeごとにiを取得\n",
    "        yield (X_copy[i:i+batch_size, :], y_copy[i:i+batch_size]) "
   ]
  },
  {
   "cell_type": "markdown",
   "metadata": {},
   "source": [
    "### アルゴリズム"
   ]
  },
  {
   "cell_type": "code",
   "execution_count": 160,
   "metadata": {},
   "outputs": [],
   "source": [
    "n_features = X_train_centered.shape[1] # 特徴量の数\n",
    "n_classes = 10                         # 正解ラベルのユニーク数\n",
    "random_seed = 123\n",
    "np.random.seed(random_seed)\n",
    "\n",
    "g = tf.Graph()\n",
    "\n",
    "with g.as_default():\n",
    "    tf.set_random_seed(random_seed)\n",
    "    tf_x = tf.placeholder(dtype=tf.float32,shape=(None, n_features),name='tf_x')\n",
    "    tf_y = tf.placeholder(dtype=tf.int32, shape=None, name='tf_y')\n",
    "    \n",
    "    # tf.one_hot:ワンホット表現に置き換える\n",
    "    y_onehot = tf.one_hot(indices=tf_y, depth=n_classes)\n",
    "    \n",
    "    # 隠れ層を定義\n",
    "    '''\n",
    "    input:インプットデータ\n",
    "    units:隠れ層が有する層数\n",
    "    activation:活性化に利用する関数\n",
    "    '''\n",
    "    h1 = tf.layers.dense(inputs=tf_x, units=50,activation=tf.tanh,name='layer1')\n",
    "    h2 = tf.layers.dense(inputs=h1, units=50,activation=tf.tanh,name='layer2')\n",
    "    logits = tf.layers.dense(inputs=h2, units=10,activation=None,name='layer3')\n",
    "    \n",
    "    # 出力層の出力を定義\n",
    "    predictions = {\n",
    "        'classes' : tf.argmax(logits, axis=1, name='predicted_classes'),  # 予測されたクラス\n",
    "        'probabilities' : tf.nn.softmax(logits, name='softmax_tensor')    # 9クラスの確率\n",
    "    }\n",
    "    \n",
    "    # コスト関数\n",
    "    # onehot_labels:正解データ logits:予測結果\n",
    "    # tf.losses.softmax_cross_entropy:ソフトマックス関数 + クロスエントロピー\n",
    "    cost = tf.losses.softmax_cross_entropy(onehot_labels=y_onehot,logits=logits)\n",
    "    \n",
    "    # オプティマイザを作成\n",
    "    optimizer = tf.train.GradientDescentOptimizer(learning_rate=0.001) # オプティマイザを定義(急速降下法)\n",
    "    train_op = optimizer.minimize(loss=cost) # 実行用\n",
    "    init_op = tf.global_variables_initializer() "
   ]
  },
  {
   "cell_type": "code",
   "execution_count": 161,
   "metadata": {},
   "outputs": [
    {
     "name": "stdout",
     "output_type": "stream",
     "text": [
      " -- Epoch  1  Avg. Training Loss: 0.8121\n"
     ]
    }
   ],
   "source": [
    "# TensorFlowのセッション開始\n",
    "sess = tf.Session(graph=g)\n",
    "sess.run(init_op)\n",
    "\n",
    "# 10エポックのトレーニング\n",
    "training_costs=[]\n",
    "for epoch in range(1):\n",
    "    training_loss=[]\n",
    "    batch_generator=create_batch_generator(X_train_centered, y_train, batch_size=10)\n",
    "    \n",
    "    for batch_X, batch_y in batch_generator:\n",
    "        feed={tf_x:batch_X, tf_y:batch_y}\n",
    "        _, batch_cost = sess.run([train_op, cost], feed_dict=feed)\n",
    "        training_costs.append(batch_cost)\n",
    "        \n",
    "    print(' -- Epoch %2d  Avg. Training Loss: %.4f' % (epoch+1, np.mean(training_costs)))"
   ]
  },
  {
   "cell_type": "code",
   "execution_count": 176,
   "metadata": {},
   "outputs": [
    {
     "name": "stdout",
     "output_type": "stream",
     "text": [
      "Test Accuracy: 88.95\n"
     ]
    }
   ],
   "source": [
    "# テストデータセットで予測を行う\n",
    "feed = {tf_x : X_test_centered}\n",
    "\n",
    "# y_pred : 予測結果の数値(1×10000)\n",
    "# prob   : 各テストデータにおける予測確率(10×10000)\n",
    "y_pred, prob = sess.run([predictions['classes'],predictions['probabilities']], feed_dict=feed)\n",
    "print('Test Accuracy: %.2f' % (100 * np.sum(y_pred == y_test)/y_test.shape[0]))"
   ]
  },
  {
   "cell_type": "code",
   "execution_count": 177,
   "metadata": {},
   "outputs": [],
   "source": [
    "# TensorBoardで可視化\n",
    "with tf.Session(graph=g) as sess:\n",
    "    sess.run(tf.global_variables_initializer())\n",
    "    file_writer=tf.summary.FileWriter(logdir='./test2/', graph=g)"
   ]
  },
  {
   "cell_type": "code",
   "execution_count": null,
   "metadata": {},
   "outputs": [],
   "source": [
    "# TensorBoardの起動\n",
    "# AnacondaNavigator\n",
    "# Environment->Open Terminal\n",
    "# cd JupyterDirectory\n",
    "# python -m tensorboard.main --logdir=./logs/"
   ]
  },
  {
   "cell_type": "code",
   "execution_count": 180,
   "metadata": {},
   "outputs": [
    {
     "name": "stdout",
     "output_type": "stream",
     "text": [
      "<class 'generator'>\n",
      "2\n",
      "3\n",
      "4\n",
      "5\n",
      "6\n"
     ]
    }
   ],
   "source": [
    "# yieldってこんなやつ\n",
    "def func(number):\n",
    "    for i in range(0, 5):\n",
    "        yield number + i\n",
    "  \n",
    "answer = func(2)\n",
    "print(type(answer))\n",
    "for ans_value in answer:\n",
    "    print(ans_value)"
   ]
  },
  {
   "cell_type": "code",
   "execution_count": null,
   "metadata": {},
   "outputs": [],
   "source": []
  },
  {
   "cell_type": "code",
   "execution_count": null,
   "metadata": {},
   "outputs": [],
   "source": []
  },
  {
   "cell_type": "code",
   "execution_count": null,
   "metadata": {},
   "outputs": [],
   "source": []
  },
  {
   "cell_type": "code",
   "execution_count": null,
   "metadata": {},
   "outputs": [],
   "source": []
  },
  {
   "cell_type": "code",
   "execution_count": null,
   "metadata": {},
   "outputs": [],
   "source": []
  },
  {
   "cell_type": "code",
   "execution_count": null,
   "metadata": {},
   "outputs": [],
   "source": []
  },
  {
   "cell_type": "code",
   "execution_count": null,
   "metadata": {},
   "outputs": [],
   "source": []
  },
  {
   "cell_type": "code",
   "execution_count": null,
   "metadata": {},
   "outputs": [],
   "source": []
  }
 ],
 "metadata": {
  "kernelspec": {
   "display_name": "Python 3",
   "language": "python",
   "name": "python3"
  },
  "language_info": {
   "codemirror_mode": {
    "name": "ipython",
    "version": 3
   },
   "file_extension": ".py",
   "mimetype": "text/x-python",
   "name": "python",
   "nbconvert_exporter": "python",
   "pygments_lexer": "ipython3",
   "version": "3.6.5"
  }
 },
 "nbformat": 4,
 "nbformat_minor": 2
}
