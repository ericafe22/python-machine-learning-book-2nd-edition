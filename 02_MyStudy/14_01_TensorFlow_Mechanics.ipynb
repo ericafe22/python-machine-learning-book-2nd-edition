{
 "cells": [
  {
   "cell_type": "code",
   "execution_count": 1,
   "metadata": {},
   "outputs": [],
   "source": [
    "import matplotlib.pyplot as plt\n",
    "import tensorflow as tf\n",
    "import numpy as np"
   ]
  },
  {
   "cell_type": "markdown",
   "metadata": {},
   "source": [
    "### TensorFlowの基本"
   ]
  },
  {
   "cell_type": "code",
   "execution_count": 2,
   "metadata": {},
   "outputs": [
    {
     "name": "stdout",
     "output_type": "stream",
     "text": [
      "Shapes: () (4,) (2, 2)\n"
     ]
    },
    {
     "ename": "AttributeError",
     "evalue": "module 'tensorflow' has no attribute 'Session'",
     "output_type": "error",
     "traceback": [
      "\u001b[1;31m---------------------------------------------------------------------------\u001b[0m",
      "\u001b[1;31mAttributeError\u001b[0m                            Traceback (most recent call last)",
      "\u001b[1;32m<ipython-input-2-86934f04626c>\u001b[0m in \u001b[0;36m<module>\u001b[1;34m\u001b[0m\n\u001b[0;32m     21\u001b[0m     \u001b[0mprint\u001b[0m\u001b[1;33m(\u001b[0m\u001b[1;34m'Shapes:'\u001b[0m\u001b[1;33m,\u001b[0m \u001b[0ms1\u001b[0m\u001b[1;33m,\u001b[0m \u001b[0ms2\u001b[0m\u001b[1;33m,\u001b[0m \u001b[0ms3\u001b[0m\u001b[1;33m)\u001b[0m\u001b[1;33m\u001b[0m\u001b[0m\n\u001b[0;32m     22\u001b[0m \u001b[1;33m\u001b[0m\u001b[0m\n\u001b[1;32m---> 23\u001b[1;33m \u001b[1;32mwith\u001b[0m \u001b[0mtf\u001b[0m\u001b[1;33m.\u001b[0m\u001b[0mSession\u001b[0m\u001b[1;33m(\u001b[0m\u001b[0mgraph\u001b[0m\u001b[1;33m=\u001b[0m\u001b[0mg\u001b[0m\u001b[1;33m)\u001b[0m \u001b[1;32mas\u001b[0m \u001b[0msess\u001b[0m\u001b[1;33m:\u001b[0m\u001b[1;33m\u001b[0m\u001b[0m\n\u001b[0m\u001b[0;32m     24\u001b[0m     \u001b[0mprint\u001b[0m\u001b[1;33m(\u001b[0m\u001b[1;34m'Ranks:'\u001b[0m\u001b[1;33m,\u001b[0m \u001b[0mr1\u001b[0m\u001b[1;33m.\u001b[0m\u001b[0meval\u001b[0m\u001b[1;33m(\u001b[0m\u001b[1;33m)\u001b[0m\u001b[1;33m,\u001b[0m \u001b[0mr2\u001b[0m\u001b[1;33m.\u001b[0m\u001b[0meval\u001b[0m\u001b[1;33m(\u001b[0m\u001b[1;33m)\u001b[0m\u001b[1;33m,\u001b[0m \u001b[0mr3\u001b[0m\u001b[1;33m.\u001b[0m\u001b[0meval\u001b[0m\u001b[1;33m(\u001b[0m\u001b[1;33m)\u001b[0m\u001b[1;33m)\u001b[0m\u001b[1;33m\u001b[0m\u001b[0m\n",
      "\u001b[1;31mAttributeError\u001b[0m: module 'tensorflow' has no attribute 'Session'"
     ]
    }
   ],
   "source": [
    "g = tf.Graph()\n",
    "\n",
    "# eval:個々のテンソルの評価。Tensorクラス\n",
    "# run :演算の実行。Operationクラス\n",
    "# tf.Session().run():テンソルと演算の両方を実行\n",
    "\n",
    "with g.as_default():\n",
    "    t1 = tf.constant(np.pi)\n",
    "    t2 = tf.constant([1, 2, 3, 4])\n",
    "    t3 = tf.constant([[1, 2], [3, 4]])\n",
    "\n",
    "    r1 = tf.rank(t1)\n",
    "    r2 = tf.rank(t2)\n",
    "    r3 = tf.rank(t3)\n",
    "    \n",
    "    #print('Ranks:', r1, r2, r3)\n",
    "\n",
    "    s1 = t1.get_shape()\n",
    "    s2 = t2.get_shape()\n",
    "    s3 = t3.get_shape()\n",
    "    print('Shapes:', s1, s2, s3)\n",
    "\n",
    "with tf.Session(graph=g) as sess:\n",
    "    print('Ranks:', r1.eval(), r2.eval(), r3.eval())"
   ]
  },
  {
   "cell_type": "code",
   "execution_count": null,
   "metadata": {},
   "outputs": [],
   "source": [
    "g = tf.Graph()\n",
    "\n",
    "# 計算グラフにノードを追加\n",
    "with g.as_default():\n",
    "    # テンソル\n",
    "    a = tf.constant(1, name='a')\n",
    "    b = tf.constant(2, name='b')\n",
    "    c = tf.constant(3, name='c')\n",
    "    # 演算\n",
    "    z = 2 * (a-b) + c"
   ]
  },
  {
   "cell_type": "code",
   "execution_count": null,
   "metadata": {},
   "outputs": [],
   "source": [
    "with tf.Session(graph=g) as sess:\n",
    "    print('2*(a-b)+c => ', sess.run(z))"
   ]
  },
  {
   "cell_type": "markdown",
   "metadata": {},
   "source": [
    "### プレースホルダ(基本)"
   ]
  },
  {
   "cell_type": "code",
   "execution_count": 97,
   "metadata": {},
   "outputs": [
    {
     "data": {
      "text/plain": [
       "<tf.Tensor 'Placeholder_2:0' shape=(2, 3, 4) dtype=float32>"
      ]
     },
     "execution_count": 97,
     "metadata": {},
     "output_type": "execute_result"
    }
   ],
   "source": [
    "# 階数が3、形状が3×4×5\n",
    "tf.placeholder(dtype=tf.float32, shape=[2, 3, 4])"
   ]
  },
  {
   "cell_type": "code",
   "execution_count": 98,
   "metadata": {},
   "outputs": [],
   "source": [
    "g = tf.Graph()\n",
    "with g.as_default():\n",
    "    tf_a = tf.placeholder(tf.int32, shape=[],name='tf_a')\n",
    "    tf_b = tf.placeholder(tf.int32, shape=[],name='tf_b') \n",
    "    tf_c = tf.placeholder(tf.int32, shape=[],name='tf_c') \n",
    "\n",
    "    r1 = tf_a-tf_b\n",
    "    r2 = 2*r1\n",
    "    z  = r2 + tf_c"
   ]
  },
  {
   "cell_type": "code",
   "execution_count": 99,
   "metadata": {},
   "outputs": [
    {
     "name": "stdout",
     "output_type": "stream",
     "text": [
      "z: 1\n"
     ]
    }
   ],
   "source": [
    "with tf.Session(graph=g) as sess:\n",
    "    feed = {tf_a: 1, tf_b: 2, tf_c: 3}\n",
    "    print('z:', sess.run(z, feed_dict=feed))"
   ]
  },
  {
   "cell_type": "markdown",
   "metadata": {},
   "source": [
    "### プレースホルダ(ミニバッチ)"
   ]
  },
  {
   "cell_type": "code",
   "execution_count": 100,
   "metadata": {},
   "outputs": [],
   "source": [
    "g = tf.Graph()\n",
    "\n",
    "with g.as_default():\n",
    "    tf_x = tf.placeholder(tf.float32, shape=[None, 2],name='tf_x')\n",
    "    x_mean = tf.reduce_mean(tf_x, axis=0, name='mean')"
   ]
  },
  {
   "cell_type": "code",
   "execution_count": 101,
   "metadata": {},
   "outputs": [
    {
     "name": "stdout",
     "output_type": "stream",
     "text": [
      "Feeding data with shape (5, 2)\n",
      "Result: [0.72 0.42]\n",
      "Feeding data with shape (10, 2)\n",
      "Result: [0.61 0.45]\n"
     ]
    }
   ],
   "source": [
    "np.set_printoptions(precision=2)\n",
    "\n",
    "with tf.Session(graph=g) as sess:\n",
    "    # low以上high未満の一様乱数\n",
    "    x1 = np.random.uniform(low=0, high=1, size=(5,2))\n",
    "    print('Feeding data with shape', x1.shape)\n",
    "    print('Result:', sess.run(x_mean, feed_dict={tf_x:x1}))\n",
    "    \n",
    "    x2 = np.random.uniform(low=0, high=1, size=(10,2))\n",
    "    print('Feeding data with shape', x2.shape)\n",
    "    print('Result:', sess.run(x_mean, feed_dict={tf_x:x2}))"
   ]
  },
  {
   "cell_type": "markdown",
   "metadata": {},
   "source": [
    "### TensorFlowの変数"
   ]
  },
  {
   "cell_type": "code",
   "execution_count": 102,
   "metadata": {},
   "outputs": [
    {
     "name": "stdout",
     "output_type": "stream",
     "text": [
      "<tf.Variable 'w:0' shape=(2, 4) dtype=int32_ref>\n"
     ]
    }
   ],
   "source": [
    "g1 = tf.Graph()\n",
    "\n",
    "with g1.as_default():\n",
    "    w = tf.Variable(np.array([[1, 2, 3, 4],\n",
    "                              [5, 6, 7, 8]]), name='w')\n",
    "    print(w)"
   ]
  },
  {
   "cell_type": "code",
   "execution_count": 103,
   "metadata": {},
   "outputs": [
    {
     "name": "stdout",
     "output_type": "stream",
     "text": [
      "[[1 2 3 4]\n",
      " [5 6 7 8]]\n"
     ]
    }
   ],
   "source": [
    "with tf.Session(graph=g1) as sess:\n",
    "    sess.run(tf.global_variables_initializer())\n",
    "    print(sess.run(w))"
   ]
  },
  {
   "cell_type": "code",
   "execution_count": 104,
   "metadata": {},
   "outputs": [],
   "source": [
    "g2 = tf.Graph()\n",
    "\n",
    "# w1は評価されるがw2は評価されない\n",
    "with g2.as_default():\n",
    "    w1 = tf.Variable(1, name='w1')\n",
    "    init_op = tf.global_variables_initializer()\n",
    "    w2 = tf.Variable(2, name='w2')"
   ]
  },
  {
   "cell_type": "code",
   "execution_count": 105,
   "metadata": {},
   "outputs": [
    {
     "name": "stdout",
     "output_type": "stream",
     "text": [
      "w1: 1\n"
     ]
    }
   ],
   "source": [
    "with tf.Session(graph=g2) as sess:\n",
    "    sess.run(init_op)\n",
    "    print('w1:', sess.run(w1))"
   ]
  },
  {
   "cell_type": "code",
   "execution_count": 106,
   "metadata": {},
   "outputs": [
    {
     "name": "stdout",
     "output_type": "stream",
     "text": [
      "Attempting to use uninitialized value w2\n",
      "\t [[{{node _retval_w2_0_0}}]]\n"
     ]
    }
   ],
   "source": [
    "with tf.Session(graph=g2) as sess:\n",
    "    \n",
    "    try:\n",
    "        sess.run(init_op)\n",
    "        print('w2:', sess.run(w2))\n",
    "    except tf.errors.FailedPreconditionError as e:\n",
    "        print(e)"
   ]
  },
  {
   "cell_type": "markdown",
   "metadata": {},
   "source": [
    "### 変数スコープ"
   ]
  },
  {
   "cell_type": "code",
   "execution_count": 107,
   "metadata": {},
   "outputs": [
    {
     "name": "stdout",
     "output_type": "stream",
     "text": [
      "<tf.Variable 'net_A/layer-1/weights:0' shape=(10, 4) dtype=float32_ref>\n",
      "<tf.Variable 'net_A/layer-2/weights:0' shape=(20, 10) dtype=float32_ref>\n",
      "<tf.Variable 'net_B/layer-1/weights:0' shape=(10, 4) dtype=float32_ref>\n"
     ]
    }
   ],
   "source": [
    "g = tf.Graph()\n",
    "\n",
    "with g.as_default():\n",
    "    with tf.variable_scope('net_A'):\n",
    "        with tf.variable_scope('layer-1'):\n",
    "            w1 = tf.Variable(tf.random_normal(\n",
    "                shape=(10,4)), name='weights')\n",
    "        with tf.variable_scope('layer-2'):\n",
    "            w2 = tf.Variable(tf.random_normal(\n",
    "                shape=(20,10)), name='weights')\n",
    "    with tf.variable_scope('net_B'):\n",
    "        with tf.variable_scope('layer-1'):\n",
    "            w3 = tf.Variable(tf.random_normal(\n",
    "                shape=(10,4)), name='weights')\n",
    "\n",
    "    print(w1)\n",
    "    print(w2)\n",
    "    print(w3)\n"
   ]
  },
  {
   "cell_type": "markdown",
   "metadata": {},
   "source": [
    "### 変数の再利用"
   ]
  },
  {
   "cell_type": "code",
   "execution_count": 108,
   "metadata": {},
   "outputs": [
    {
     "name": "stdout",
     "output_type": "stream",
     "text": [
      "<tf.Variable 'classifier/weights:0' shape=(100, 2) dtype=float32_ref>\n",
      "<tf.Variable 'classifier/bias:0' shape=(2,) dtype=float32_ref>\n",
      "Tensor(\"classifier/logits:0\", shape=(64, 2), dtype=float32)\n",
      "<tf.Variable 'classifier/weights:0' shape=(100, 2) dtype=float32_ref>\n",
      "<tf.Variable 'classifier/bias:0' shape=(2,) dtype=float32_ref>\n",
      "Tensor(\"classifier/logits_1:0\", shape=(64, 2), dtype=float32)\n"
     ]
    }
   ],
   "source": [
    "# 分類器\n",
    "def build_classifier(data, labels, n_classes=2):\n",
    "    data_shape = data.get_shape().as_list() # TensorshapeクラスのObject(テンソルの形状)\n",
    "    \n",
    "    weights = tf.get_variable(name='weights',shape=(data_shape[1], n_classes),dtype=tf.float32)\n",
    "    bias = tf.get_variable(name='bias', initializer=tf.zeros(shape=n_classes))\n",
    "    print(weights)\n",
    "    print(bias)\n",
    "    \n",
    "    # tf.matmul:行列積\n",
    "    # tf.add:総和\n",
    "    logits = tf.add(tf.matmul(data, weights), bias, name='logits')\n",
    "    print(logits)\n",
    "    return logits, tf.nn.softmax(logits) # 総出力 & SoftMax(総出力)\n",
    "\n",
    "# ジェネレータ\n",
    "def build_generator(data, n_hidden):\n",
    "    data_shape = data.get_shape().as_list()\n",
    "    \n",
    "    # tf.random_normal:正規分布の乱数生成\n",
    "    # tf.zeros:0の配列生成\n",
    "    w1 = tf.Variable(tf.random_normal(shape=(data_shape[1], n_hidden)),name='w1')\n",
    "    b1 = tf.Variable(tf.zeros(shape=n_hidden), name='b1')\n",
    "    hidden = tf.add(tf.matmul(data, w1), b1, name='hidden_pre-activation')\n",
    "    hidden = tf.nn.relu(hidden, 'hidden_activation')\n",
    "        \n",
    "    w2 = tf.Variable(tf.random_normal(shape=(n_hidden, data_shape[1])),name='w2')\n",
    "    b2 = tf.Variable(tf.zeros(shape=data_shape[1]),name='b2')\n",
    "    output = tf.add(tf.matmul(hidden, w2), b2, name = 'output')\n",
    "    \n",
    "    return output, tf.nn.sigmoid(output)\n",
    "\n",
    "# 計算グラフの構築\n",
    "batch_size=64\n",
    "g = tf.Graph()\n",
    "\n",
    "with g.as_default():\n",
    "    tf_X = tf.placeholder(shape=(batch_size, 100), dtype=tf.float32,name='tf_X')\n",
    "    with tf.variable_scope('generator'):\n",
    "        gen_out1 = build_generator(data=tf_X, n_hidden=50)\n",
    "    \n",
    "    with tf.variable_scope('classifier') as scope:\n",
    "        cls_out1 = build_classifier(data=tf_X, labels=tf.ones(shape=batch_size))\n",
    "        \n",
    "        scope.reuse_variables() # 変数の共有\n",
    "        cls_out2 = build_classifier(data=gen_out1[1],labels=tf.zeros(shape=batch_size))\n",
    "        \n",
    "        init_op = tf.global_variables_initializer()"
   ]
  },
  {
   "cell_type": "code",
   "execution_count": 109,
   "metadata": {},
   "outputs": [
    {
     "name": "stdout",
     "output_type": "stream",
     "text": [
      "<tf.Variable 'classifier/weights:0' shape=(100, 2) dtype=float32_ref>\n",
      "<tf.Variable 'classifier/bias:0' shape=(2,) dtype=float32_ref>\n",
      "Tensor(\"classifier/logits:0\", shape=(64, 2), dtype=float32)\n",
      "<tf.Variable 'classifier/weights:0' shape=(100, 2) dtype=float32_ref>\n",
      "<tf.Variable 'classifier/bias:0' shape=(2,) dtype=float32_ref>\n",
      "Tensor(\"classifier_1/logits:0\", shape=(64, 2), dtype=float32)\n"
     ]
    }
   ],
   "source": [
    "g = tf.Graph()\n",
    "\n",
    "with g.as_default():\n",
    "    tf_X = tf.placeholder(shape=(batch_size, 100), dtype=tf.float32,name='tf_X')\n",
    "    with tf.variable_scope('generator'):\n",
    "        gen_out1 = build_generator(data=tf_X, n_hidden=50)\n",
    "    \n",
    "    with tf.variable_scope('classifier'):\n",
    "        cls_out1 = build_classifier(data=tf_X, labels=tf.ones(shape=batch_size))\n",
    "        \n",
    "    with tf.variable_scope('classifier', reuse=True): # 変数の共有\n",
    "        cls_out2 = build_classifier(data=gen_out1[1],labels=tf.zeros(shape=batch_size))\n",
    "        \n",
    "        init_op = tf.global_variables_initializer()"
   ]
  },
  {
   "cell_type": "markdown",
   "metadata": {},
   "source": [
    "### 回帰モデルの構築"
   ]
  },
  {
   "cell_type": "code",
   "execution_count": 110,
   "metadata": {},
   "outputs": [
    {
     "data": {
      "image/png": "[encoded data removed]",
      "text/plain": [
       "<Figure size 432x288 with 1 Axes>"
      ]
     },
     "metadata": {},
     "output_type": "display_data"
    }
   ],
   "source": [
    "# 回帰用のランダムなデータセットの作成\n",
    "def make_random_data():\n",
    "    \n",
    "    # np.random.uniform:low以上high未満の一様乱数\n",
    "    x = np.random.uniform(low=-2, high=4, size=200)\n",
    "    \n",
    "    # y値\n",
    "    y = []\n",
    "    for t in x:\n",
    "        # 正規分布(scale：標準偏差)\n",
    "        r = np.random.normal(loc=0.0, scale=(0.5 + t*t/3), size=None)\n",
    "        y.append(r)\n",
    "    \n",
    "    return  x, 1.726*x -0.84 + np.array(y)\n",
    "\n",
    "x, y = make_random_data() \n",
    "\n",
    "plt.plot(x, y, 'o')\n",
    "plt.show()"
   ]
  },
  {
   "cell_type": "code",
   "execution_count": 111,
   "metadata": {},
   "outputs": [
    {
     "name": "stdout",
     "output_type": "stream",
     "text": [
      "Tensor(\"y_hat:0\", dtype=float32)\n",
      "Tensor(\"cost:0\", shape=(), dtype=float32)\n"
     ]
    }
   ],
   "source": [
    "# 回帰用の計算グラフの作成\n",
    "\n",
    "g = tf.Graph()\n",
    "\n",
    "with g.as_default():\n",
    "    tf.set_random_seed(123)\n",
    "    \n",
    "    # プレースホルダの定義(入力x, 入力y)\n",
    "    tf_x = tf.placeholder(shape=(None), dtype=tf.float32, name='tf_x')\n",
    "    tf_y = tf.placeholder(shape=(None), dtype=tf.float32,name='tf_y')\n",
    "    \n",
    "    # 変数\n",
    "    weight = tf.Variable(tf.random_normal(shape=(1, 1), stddev=0.25),name='weight') # stddev:標準偏差\n",
    "    bias = tf.Variable(0.0, name='bias')\n",
    "    \n",
    "    # モデルを構築\n",
    "    y_hat = tf.add(weight * tf_x, bias, name='y_hat') # 総出力\n",
    "    print(y_hat)\n",
    "    \n",
    "    # コストの計算\n",
    "    cost = tf.reduce_mean(tf.square(tf_y - y_hat), name='cost') # tf.reduce_mean:数値の平均値\n",
    "    print(cost)\n",
    "\n",
    "    # モデルのトレーニング\n",
    "    # GradientDescentOptimizer:勾配降下法のOptimizer\n",
    "    optim = tf.train.GradientDescentOptimizer(learning_rate=0.001)\n",
    "    train_op = optim.minimize(cost, name='train_op')"
   ]
  },
  {
   "cell_type": "code",
   "execution_count": 112,
   "metadata": {},
   "outputs": [],
   "source": [
    "# テストデータセットの分割\n",
    "x_train, y_train = x[:100], y[:100]\n",
    "x_test, y_test = x[100:], y[100:]"
   ]
  },
  {
   "cell_type": "code",
   "execution_count": 113,
   "metadata": {},
   "outputs": [
    {
     "name": "stdout",
     "output_type": "stream",
     "text": [
      "Epoch    0: 20.6086\n",
      "Epoch   50: 13.2860\n",
      "Epoch  100: 9.8373\n",
      "Epoch  150: 8.1843\n",
      "Epoch  200: 7.3675\n",
      "Epoch  250: 6.9433\n",
      "Epoch  300: 6.7063\n",
      "Epoch  350: 6.5610\n",
      "Epoch  400: 6.4625\n",
      "Epoch  450: 6.3897\n"
     ]
    },
    {
     "data": {
      "text/plain": [
       "[<matplotlib.lines.Line2D at 0x20fc5419588>]"
      ]
     },
     "execution_count": 113,
     "metadata": {},
     "output_type": "execute_result"
    },
    {
     "data": {
      "image/png": "[encoded data removed]",
      "text/plain": [
       "<Figure size 432x288 with 1 Axes>"
      ]
     },
     "metadata": {},
     "output_type": "display_data"
    }
   ],
   "source": [
    "# モデルのトレーニング\n",
    "n_epochs = 500\n",
    "training_costs = []\n",
    "\n",
    "with tf.Session(graph=g) as sess:\n",
    "    # 変数の初期化\n",
    "    sess.run(tf.global_variables_initializer())\n",
    "    \n",
    "    # 500エポックでモデルをトレーニング\n",
    "    for e in range(n_epochs):\n",
    "        c, _ = sess.run([cost, train_op], feed_dict={tf_x: x_train,tf_y: y_train})\n",
    "        training_costs.append(c)\n",
    "        \n",
    "        # 50セットごとにprint\n",
    "        if not e % 50:\n",
    "            print('Epoch %4d: %.4f' % (e, c))\n",
    "\n",
    "plt.plot(training_costs)"
   ]
  },
  {
   "cell_type": "markdown",
   "metadata": {},
   "source": [
    "### トレーニングモデルを保存"
   ]
  },
  {
   "cell_type": "code",
   "execution_count": 114,
   "metadata": {},
   "outputs": [
    {
     "name": "stdout",
     "output_type": "stream",
     "text": [
      "Epoch    0: 20.6086\n",
      "Epoch   50: 13.2860\n",
      "Epoch  100: 9.8373\n",
      "Epoch  150: 8.1843\n",
      "Epoch  200: 7.3675\n",
      "Epoch  250: 6.9433\n",
      "Epoch  300: 6.7063\n",
      "Epoch  350: 6.5610\n",
      "Epoch  400: 6.4625\n",
      "Epoch  450: 6.3897\n"
     ]
    }
   ],
   "source": [
    "# 計算グラフにsaverを追加\n",
    "with g.as_default():\n",
    "    saver = tf.train.Saver()\n",
    "\n",
    "n_epochs = 500\n",
    "training_costs = []\n",
    "\n",
    "with tf.Session(graph=g) as sess:\n",
    "    sess.run(tf.global_variables_initializer())\n",
    "    \n",
    "    for e in range(n_epochs):\n",
    "        c, _ = sess.run(['cost:0', 'train_op'],feed_dict={'tf_x:0':x_train, 'tf_y:0':y_train})\n",
    "        \n",
    "        training_costs.append(c)\n",
    "        if not e % 50:\n",
    "            print('Epoch %4d: %.4f' % (e, c))\n",
    "            \n",
    "    saver.save(sess, './training_model/training_model')"
   ]
  },
  {
   "cell_type": "code",
   "execution_count": 115,
   "metadata": {},
   "outputs": [
    {
     "name": "stdout",
     "output_type": "stream",
     "text": [
      "INFO:tensorflow:Restoring parameters from ./training_model/training_model\n"
     ]
    },
    {
     "name": "stderr",
     "output_type": "stream",
     "text": [
      "INFO:tensorflow:Restoring parameters from ./training_model/training_model\n"
     ]
    },
    {
     "data": {
      "image/png": "[encoded data removed]",
      "text/plain": [
       "<Figure size 432x288 with 1 Axes>"
      ]
     },
     "metadata": {},
     "output_type": "display_data"
    }
   ],
   "source": [
    "# 保存したファイルからモデルを復元\n",
    "\n",
    "x_arr = np.arange(-2, 4, 0.1)\n",
    "g2 = tf.Graph()\n",
    "\n",
    "with tf.Session(graph=g2) as sess:\n",
    "    new_saver = tf.train.import_meta_graph('./training_model/training_model.meta')\n",
    "    new_saver.restore(sess, './training_model/training_model')\n",
    "    # 予測結果をここでは走らせる\n",
    "    y_arr = sess.run('y_hat:0', feed_dict={'tf_x:0':x_arr})\n",
    "\n",
    "plt.figure()\n",
    "plt.plot(x_train, y_train, 'bo')\n",
    "plt.plot(x_test, y_test, 'bo', alpha=0.3)\n",
    "plt.plot(x_arr, y_arr.T[:, 0], '-r', lw=3)\n",
    "plt.show()"
   ]
  },
  {
   "cell_type": "markdown",
   "metadata": {},
   "source": [
    "### テンソルを多次元配列として変換する"
   ]
  },
  {
   "cell_type": "code",
   "execution_count": 116,
   "metadata": {},
   "outputs": [
    {
     "name": "stdout",
     "output_type": "stream",
     "text": [
      "Tensor(\"T1:0\", shape=(3, 4), dtype=float64)\n",
      "Shape of T1 is (3, 4)\n",
      "<tf.Variable 'Variable:0' shape=(3, 4) dtype=float32_ref>\n",
      "<tf.Variable 'Variable_1:0' shape=(3,) dtype=float32_ref>\n",
      "Tensor(\"T4:0\", shape=(1, 1, 12), dtype=float64)\n",
      "Tensor(\"T5:0\", shape=(1, 3, 4), dtype=float64)\n",
      "Tensor(\"T6:0\", shape=(4, 3, 1), dtype=float64)\n",
      "Tensor(\"T7:0\", shape=(1, 4, 3), dtype=float64)\n",
      "[<tf.Tensor 'T8:0' shape=(1, 3, 1) dtype=float64>, <tf.Tensor 'T8:1' shape=(1, 3, 1) dtype=float64>, <tf.Tensor 'T8:2' shape=(1, 3, 1) dtype=float64>, <tf.Tensor 'T8:3' shape=(1, 3, 1) dtype=float64>]\n"
     ]
    }
   ],
   "source": [
    "g = tf.Graph()\n",
    "\n",
    "with g.as_default():\n",
    "    arr = np.array([[1., 2., 3., 3.5],\n",
    "                [4., 5., 6., 6.5],\n",
    "                [7., 8., 9., 9.5]])\n",
    "    \n",
    "    # 定数の定義\n",
    "    T1 = tf.constant(arr, name='T1')\n",
    "    print(T1)\n",
    "    \n",
    "    # shapeを取得\n",
    "    s = T1.get_shape()\n",
    "    print('Shape of T1 is', s)\n",
    "    \n",
    "    # 変数を定義\n",
    "    T2 = tf.Variable(tf.random_normal(shape=s))\n",
    "    print(T2)\n",
    "    T3 = tf.Variable(tf.random_normal(shape=(s.as_list()[0],))) # 行を取得(as_listメソッドでアクセス)\n",
    "    print(T3)\n",
    "    \n",
    "    # reshape\n",
    "    T4 = tf.reshape(T1, shape=[1, 1, -1], name='T4') # -1は可変サイズ\n",
    "    print(T4)\n",
    "    T5 = tf.reshape(T1, shape=[1, 3, -1], name='T5')\n",
    "    print(T5)\n",
    "    \n",
    "    # 配列の転置\n",
    "    T6 = tf.transpose(T5, perm=[2, 1, 0], name='T6')\n",
    "    print(T6)\n",
    "    T7 = tf.transpose(T5, perm=[0, 2, 1], name='T7')\n",
    "    print(T7)\n",
    "    \n",
    "    # テンソルをサブテンソルのリストに分割\n",
    "    t5_splt = tf.split(T5, num_or_size_splits=4, axis=2, name='T8')\n",
    "    print(t5_splt)"
   ]
  },
  {
   "cell_type": "code",
   "execution_count": 117,
   "metadata": {},
   "outputs": [
    {
     "name": "stdout",
     "output_type": "stream",
     "text": [
      "[[[1.  2.  3.  3.5 4.  5.  6.  6.5 7.  8.  9.  9.5]]]\n",
      "[[[1.  2.  3.  3.5]\n",
      "  [4.  5.  6.  6.5]\n",
      "  [7.  8.  9.  9.5]]]\n",
      "[array([[[1.],\n",
      "        [4.],\n",
      "        [7.]]]), array([[[2.],\n",
      "        [5.],\n",
      "        [8.]]]), array([[[3.],\n",
      "        [6.],\n",
      "        [9.]]]), array([[[3.5],\n",
      "        [6.5],\n",
      "        [9.5]]])]\n"
     ]
    }
   ],
   "source": [
    "with tf.Session(graph=g) as sess:\n",
    "    print(sess.run(T4))\n",
    "    print(sess.run(T5))\n",
    "    print(sess.run(t5_splt))"
   ]
  },
  {
   "cell_type": "code",
   "execution_count": 118,
   "metadata": {},
   "outputs": [
    {
     "name": "stdout",
     "output_type": "stream",
     "text": [
      "Tensor(\"t1:0\", shape=(5, 1), dtype=float32)\n",
      "Tensor(\"t2:0\", shape=(5, 1), dtype=float32)\n",
      "Tensor(\"t3:0\", shape=(10, 1), dtype=float32)\n",
      "Tensor(\"t4:0\", shape=(5, 2), dtype=float32)\n"
     ]
    }
   ],
   "source": [
    "g = tf.Graph()\n",
    "\n",
    "with g.as_default():\n",
    "    t1 = tf.ones(shape=(5, 1), dtype=tf.float32, name='t1')\n",
    "    t2 = tf.zeros(shape=(5, 1),dtype=tf.float32, name='t2')\n",
    "    print(t1)\n",
    "    print(t2)\n",
    "\n",
    "    # テンソルの結合\n",
    "    t3 = tf.concat([t1, t2], axis=0, name='t3') # 縦結合\n",
    "    print(t3)\n",
    "    t4 = tf.concat([t1, t2], axis=1, name='t4') # 横結合\n",
    "    print(t4)"
   ]
  },
  {
   "cell_type": "code",
   "execution_count": 119,
   "metadata": {},
   "outputs": [
    {
     "name": "stdout",
     "output_type": "stream",
     "text": [
      "[[1.]\n",
      " [1.]\n",
      " [1.]\n",
      " [1.]\n",
      " [1.]\n",
      " [0.]\n",
      " [0.]\n",
      " [0.]\n",
      " [0.]\n",
      " [0.]]\n",
      "[[1. 0.]\n",
      " [1. 0.]\n",
      " [1. 0.]\n",
      " [1. 0.]\n",
      " [1. 0.]]\n"
     ]
    }
   ],
   "source": [
    "with tf.Session(graph=g) as sess:\n",
    "    print(t3.eval())\n",
    "    print(t4.eval())"
   ]
  },
  {
   "cell_type": "markdown",
   "metadata": {},
   "source": [
    "### 制御構文"
   ]
  },
  {
   "cell_type": "code",
   "execution_count": 137,
   "metadata": {},
   "outputs": [
    {
     "name": "stdout",
     "output_type": "stream",
     "text": [
      "Object:  Tensor(\"cond/Merge:0\", dtype=float32)\n",
      "result:  Tensor(\"case/cond/Merge:0\", shape=(), dtype=int32)\n",
      "x < y: True -> Result: 3.0\n",
      "x < y: False -> Result: 1.0\n",
      "x < y: False -> Result: 2\n"
     ]
    }
   ],
   "source": [
    "# IF文\n",
    "g = tf.Graph()\n",
    "\n",
    "with g.as_default():\n",
    "    tf_x = tf.placeholder(dtype=tf.float32, shape=None, name='tf_x')\n",
    "    tf_y = tf.placeholder(dtype=tf.float32, shape=None, name='tf_y')\n",
    "    res = tf.cond(tf_x < tf_y,\n",
    "                 lambda: tf.add(tf_x, tf_y, name='result_add'),\n",
    "                 lambda: tf.subtract(tf_x, tf_y, name='result_sub')\n",
    "                 )\n",
    "    print('Object: ', res)\n",
    "\n",
    "with tf.Session(graph=g) as sess:\n",
    "    x, y = 1.0, 2.0\n",
    "    print('x < y: %s -> Result:' % (x < y), res.eval(feed_dict={'tf_x:0': x, 'tf_y:0': y}))\n",
    "    x, y = 2.0, 1.0\n",
    "    print('x < y: %s -> Result:' % (x < y), res.eval(feed_dict={'tf_x:0': x,'tf_y:0': y}))"
   ]
  },
  {
   "cell_type": "code",
   "execution_count": 144,
   "metadata": {},
   "outputs": [
    {
     "name": "stdout",
     "output_type": "stream",
     "text": [
      "result:  Tensor(\"case/cond/Merge:0\", shape=(), dtype=int32)\n",
      "Result: 2\n"
     ]
    }
   ],
   "source": [
    "# CASE文\n",
    "g = tf.Graph()\n",
    "\n",
    "with g.as_default():\n",
    "    f1 = lambda: tf.constant(1)\n",
    "    f2 = lambda: tf.constant(2)\n",
    "    \n",
    "    # tf.less:各要素を比較する。a < b の結果をT/Fで返す。\n",
    "    result = tf.case([(tf.less(x, y), f1)], default=f2)\n",
    "    print('result: ', result)\n",
    "\n",
    "with tf.Session(graph=g) as sess:\n",
    "    print('Result: %s' % result.eval())"
   ]
  },
  {
   "cell_type": "code",
   "execution_count": 154,
   "metadata": {},
   "outputs": [
    {
     "name": "stdout",
     "output_type": "stream",
     "text": [
      "Result: 99\n"
     ]
    }
   ],
   "source": [
    "# ループ文\n",
    "g = tf.Graph()\n",
    "\n",
    "with g.as_default():\n",
    "    i = tf.constant(0)\n",
    "    \n",
    "    c = lambda i: tf.less(i, 99)\n",
    "    b = lambda i: tf.add(i, 1)\n",
    "    \n",
    "    # condがcの間、bodyの処理が繰り返される\n",
    "    r = tf.while_loop(cond=c, body=b, loop_vars=[i])\n",
    "\n",
    "with tf.Session(graph=g) as sess:\n",
    "    print('Result: %s' % r.eval())"
   ]
  },
  {
   "cell_type": "markdown",
   "metadata": {},
   "source": [
    "### TensorBoardによる可視化"
   ]
  },
  {
   "cell_type": "code",
   "execution_count": 161,
   "metadata": {},
   "outputs": [
    {
     "name": "stdout",
     "output_type": "stream",
     "text": [
      "<tf.Variable 'classifier/weights:0' shape=(100, 2) dtype=float32_ref>\n",
      "<tf.Variable 'classifier/bias:0' shape=(2,) dtype=float32_ref>\n",
      "Tensor(\"classifier/logits:0\", shape=(64, 2), dtype=float32)\n",
      "<tf.Variable 'classifier/weights:0' shape=(100, 2) dtype=float32_ref>\n",
      "<tf.Variable 'classifier/bias:0' shape=(2,) dtype=float32_ref>\n",
      "Tensor(\"classifier/logits_1:0\", shape=(64, 2), dtype=float32)\n"
     ]
    }
   ],
   "source": [
    "batch_size = 64\n",
    "g = tf.Graph()\n",
    "\n",
    "# build_generator\n",
    "# \n",
    "\n",
    "with g.as_default():\n",
    "    tf_X = tf.placeholder(shape=(batch_size, 100), dtype=tf.float32,name='tf_X')\n",
    "    \n",
    "    # ジェネレータを構築\n",
    "    with tf.variable_scope('generator'):\n",
    "        gen_out1 = build_generator(data=tf_X, n_hidden=50)\n",
    "    \n",
    "    # 分類器を構築\n",
    "    with tf.variable_scope('classifier') as scope:\n",
    "        # tf_Xに対しての分類器\n",
    "        cls_out1 = build_classifier(data=tf_X, labels=tf.ones(shape=batch_size))\n",
    "        \n",
    "        # 生成されたデータに対しての分類器\n",
    "        scope.reuse_variables()\n",
    "        cls_out2 = build_classifier(data=gen_out1[1], labels=tf.zeros(shape=batch_size))"
   ]
  },
  {
   "cell_type": "code",
   "execution_count": 162,
   "metadata": {},
   "outputs": [],
   "source": [
    "with tf.Session(graph=g) as sess:\n",
    "    sess.run(tf.global_variables_initializer())\n",
    "    file_writer=tf.summary.FileWriter(logdir='./logs/', graph=g)"
   ]
  },
  {
   "cell_type": "code",
   "execution_count": null,
   "metadata": {},
   "outputs": [],
   "source": [
    "# TensorBoardの起動\n",
    "# AnacondaNavigator\n",
    "# Environment->Prompt\n",
    "# cd JupyterDirectory\n",
    "# python -m tensorboard.main --logdir=./logs/ --host=127.0.0.1"
   ]
  },
  {
   "cell_type": "code",
   "execution_count": null,
   "metadata": {},
   "outputs": [],
   "source": []
  },
  {
   "cell_type": "code",
   "execution_count": null,
   "metadata": {},
   "outputs": [],
   "source": []
  },
  {
   "cell_type": "code",
   "execution_count": null,
   "metadata": {},
   "outputs": [],
   "source": []
  },
  {
   "cell_type": "code",
   "execution_count": null,
   "metadata": {},
   "outputs": [],
   "source": []
  },
  {
   "cell_type": "code",
   "execution_count": null,
   "metadata": {},
   "outputs": [],
   "source": []
  },
  {
   "cell_type": "code",
   "execution_count": null,
   "metadata": {},
   "outputs": [],
   "source": []
  },
  {
   "cell_type": "code",
   "execution_count": null,
   "metadata": {},
   "outputs": [],
   "source": []
  },
  {
   "cell_type": "code",
   "execution_count": null,
   "metadata": {},
   "outputs": [],
   "source": []
  },
  {
   "cell_type": "code",
   "execution_count": null,
   "metadata": {},
   "outputs": [],
   "source": []
  },
  {
   "cell_type": "code",
   "execution_count": null,
   "metadata": {},
   "outputs": [],
   "source": []
  }
 ],
 "metadata": {
  "kernelspec": {
   "display_name": "Python 3",
   "language": "python",
   "name": "python3"
  },
  "language_info": {
   "codemirror_mode": {
    "name": "ipython",
    "version": 3
   },
   "file_extension": ".py",
   "mimetype": "text/x-python",
   "name": "python",
   "nbconvert_exporter": "python",
   "pygments_lexer": "ipython3",
   "version": "3.6.5"
  }
 },
 "nbformat": 4,
 "nbformat_minor": 2
}
